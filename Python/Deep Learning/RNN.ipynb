{
 "cells": [
  {
   "cell_type": "markdown",
   "metadata": {},
   "source": [
    "## Importing libraries"
   ]
  },
  {
   "cell_type": "code",
   "execution_count": 1,
   "metadata": {},
   "outputs": [],
   "source": [
    "import numpy as np\n",
    "import pandas as pd\n",
    "import matplotlib.pyplot as plt"
   ]
  },
  {
   "cell_type": "markdown",
   "metadata": {},
   "source": [
    "## Importing Dataset"
   ]
  },
  {
   "cell_type": "code",
   "execution_count": 2,
   "metadata": {},
   "outputs": [],
   "source": [
    "df = pd.read_csv('Google_Stock_Price_Train.csv')\n",
    "training_data = df.iloc[:, 1:2].values"
   ]
  },
  {
   "cell_type": "markdown",
   "metadata": {},
   "source": [
    "## Feature Scaling"
   ]
  },
  {
   "cell_type": "code",
   "execution_count": 3,
   "metadata": {},
   "outputs": [],
   "source": [
    "from sklearn.preprocessing import MinMaxScaler\n",
    "sc = MinMaxScaler(feature_range=(0,1))\n",
    "training_set_scaled = sc.fit_transform(training_data)"
   ]
  },
  {
   "cell_type": "markdown",
   "metadata": {},
   "source": [
    "## Creating a Data Structure"
   ]
  },
  {
   "cell_type": "markdown",
   "metadata": {},
   "source": [
    "### Data Structure with 60 Timesteps and One Output"
   ]
  },
  {
   "cell_type": "code",
   "execution_count": 5,
   "metadata": {},
   "outputs": [],
   "source": [
    "X_train = []\n",
    "y_train = []\n",
    "for i in range(60, 1258):\n",
    "    X_train.append(training_set_scaled[i-60:i, 0])\n",
    "    y_train.append(training_set_scaled[i, 0])\n",
    "X_train, y_train = np.array(X_train), np.array(y_train)"
   ]
  },
  {
   "cell_type": "markdown",
   "metadata": {},
   "source": [
    "## Reshaping"
   ]
  },
  {
   "cell_type": "code",
   "execution_count": 7,
   "metadata": {},
   "outputs": [],
   "source": [
    "X_train = np.reshape(X_train, (X_train.shape[0], X_train.shape[1], 1))"
   ]
  },
  {
   "cell_type": "markdown",
   "metadata": {},
   "source": [
    "# Building the RNN"
   ]
  },
  {
   "cell_type": "markdown",
   "metadata": {},
   "source": [
    "### Importing the Libraries"
   ]
  },
  {
   "cell_type": "code",
   "execution_count": 10,
   "metadata": {},
   "outputs": [],
   "source": [
    "from keras.models import Sequential\n",
    "from keras.layers import Dense\n",
    "from keras.layers import LSTM\n",
    "from keras.layers import Dropout"
   ]
  },
  {
   "cell_type": "markdown",
   "metadata": {},
   "source": [
    "### Initialize RNN"
   ]
  },
  {
   "cell_type": "code",
   "execution_count": 16,
   "metadata": {},
   "outputs": [],
   "source": [
    "regressor = Sequential()"
   ]
  },
  {
   "cell_type": "markdown",
   "metadata": {},
   "source": [
    "### Adding Layers"
   ]
  },
  {
   "cell_type": "code",
   "execution_count": 17,
   "metadata": {},
   "outputs": [],
   "source": [
    "# Adding the first LSTM layer and some droupout regularization\n",
    "regressor.add(LSTM(units = 50, return_sequences = True, input_shape = (X_train.shape[1], 1)))\n",
    "regressor.add(Dropout(0.2))\n",
    "\n",
    "# Adding the second LSTM layer and some droupout regularization\n",
    "regressor.add(LSTM(units = 50, return_sequences = True))\n",
    "regressor.add(Dropout(0.2))\n",
    "\n",
    "# Adding the third LSTM layer and some droupout regularization\n",
    "regressor.add(LSTM(units = 50, return_sequences = True))\n",
    "regressor.add(Dropout(0.2))\n",
    "\n",
    "# Adding the fourth LSTM layer and some droupout regularization\n",
    "regressor.add(LSTM(units = 50))\n",
    "regressor.add(Dropout(0.2))\n",
    "\n",
    "# Adding the output layer\n",
    "regressor.add(Dense(units = 1))"
   ]
  },
  {
   "cell_type": "markdown",
   "metadata": {},
   "source": [
    "### Compile the RNN"
   ]
  },
  {
   "cell_type": "code",
   "execution_count": 19,
   "metadata": {},
   "outputs": [],
   "source": [
    "regressor.compile(optimizer='adam', loss='mean_squared_error')"
   ]
  },
  {
   "cell_type": "markdown",
   "metadata": {},
   "source": [
    "### Training the RNN"
   ]
  },
  {
   "cell_type": "code",
   "execution_count": 21,
   "metadata": {},
   "outputs": [
    {
     "name": "stdout",
     "output_type": "stream",
     "text": [
      "Epoch 1/100\n"
     ]
    },
    {
     "name": "stdout",
     "output_type": "stream",
     "text": [
      "38/38 [==============================] - 2s 51ms/step - loss: 0.0052\n",
      "Epoch 2/100\n",
      "38/38 [==============================] - 2s 53ms/step - loss: 0.0046\n",
      "Epoch 3/100\n",
      "38/38 [==============================] - 2s 51ms/step - loss: 0.0051\n",
      "Epoch 4/100\n",
      "38/38 [==============================] - 2s 50ms/step - loss: 0.0041\n",
      "Epoch 5/100\n",
      "38/38 [==============================] - 2s 50ms/step - loss: 0.0050\n",
      "Epoch 6/100\n",
      "38/38 [==============================] - 2s 52ms/step - loss: 0.0053\n",
      "Epoch 7/100\n",
      "38/38 [==============================] - 2s 57ms/step - loss: 0.0045\n",
      "Epoch 8/100\n",
      "38/38 [==============================] - 3s 68ms/step - loss: 0.0037\n",
      "Epoch 9/100\n",
      "38/38 [==============================] - 3s 91ms/step - loss: 0.0042\n",
      "Epoch 10/100\n",
      "38/38 [==============================] - 4s 105ms/step - loss: 0.0042\n",
      "Epoch 11/100\n",
      "38/38 [==============================] - 4s 109ms/step - loss: 0.0041\n",
      "Epoch 12/100\n",
      "38/38 [==============================] - 4s 108ms/step - loss: 0.0040\n",
      "Epoch 13/100\n",
      "38/38 [==============================] - 4s 105ms/step - loss: 0.0036\n",
      "Epoch 14/100\n",
      "38/38 [==============================] - 4s 105ms/step - loss: 0.0037\n",
      "Epoch 15/100\n",
      "38/38 [==============================] - 4s 105ms/step - loss: 0.0034\n",
      "Epoch 16/100\n",
      "38/38 [==============================] - 4s 103ms/step - loss: 0.0035\n",
      "Epoch 17/100\n",
      "38/38 [==============================] - 4s 105ms/step - loss: 0.0036\n",
      "Epoch 18/100\n",
      "38/38 [==============================] - 4s 103ms/step - loss: 0.0030\n",
      "Epoch 19/100\n",
      "38/38 [==============================] - 4s 105ms/step - loss: 0.0033\n",
      "Epoch 20/100\n",
      "38/38 [==============================] - 4s 104ms/step - loss: 0.0031\n",
      "Epoch 21/100\n",
      "38/38 [==============================] - 4s 104ms/step - loss: 0.0030\n",
      "Epoch 22/100\n",
      "38/38 [==============================] - 4s 102ms/step - loss: 0.0028\n",
      "Epoch 23/100\n",
      "38/38 [==============================] - 4s 100ms/step - loss: 0.0029\n",
      "Epoch 24/100\n",
      "38/38 [==============================] - 4s 106ms/step - loss: 0.0030\n",
      "Epoch 25/100\n",
      "38/38 [==============================] - 3s 82ms/step - loss: 0.0032\n",
      "Epoch 26/100\n",
      "38/38 [==============================] - 2s 53ms/step - loss: 0.0028\n",
      "Epoch 27/100\n",
      "38/38 [==============================] - 2s 55ms/step - loss: 0.0031\n",
      "Epoch 28/100\n",
      "38/38 [==============================] - 3s 79ms/step - loss: 0.0032\n",
      "Epoch 29/100\n",
      "38/38 [==============================] - 4s 114ms/step - loss: 0.0026\n",
      "Epoch 30/100\n",
      "38/38 [==============================] - 4s 106ms/step - loss: 0.0028\n",
      "Epoch 31/100\n",
      "38/38 [==============================] - 4s 105ms/step - loss: 0.0028\n",
      "Epoch 32/100\n",
      "38/38 [==============================] - 4s 113ms/step - loss: 0.0028\n",
      "Epoch 33/100\n",
      "38/38 [==============================] - 4s 109ms/step - loss: 0.0026\n",
      "Epoch 34/100\n",
      "38/38 [==============================] - 4s 110ms/step - loss: 0.0029\n",
      "Epoch 35/100\n",
      "38/38 [==============================] - 4s 115ms/step - loss: 0.0025\n",
      "Epoch 36/100\n",
      "38/38 [==============================] - 4s 118ms/step - loss: 0.0029\n",
      "Epoch 37/100\n",
      "38/38 [==============================] - 4s 101ms/step - loss: 0.0023\n",
      "Epoch 38/100\n",
      "38/38 [==============================] - 4s 107ms/step - loss: 0.0027\n",
      "Epoch 39/100\n",
      "38/38 [==============================] - 4s 107ms/step - loss: 0.0025\n",
      "Epoch 40/100\n",
      "38/38 [==============================] - 5s 123ms/step - loss: 0.0024\n",
      "Epoch 41/100\n",
      "38/38 [==============================] - 4s 117ms/step - loss: 0.0023\n",
      "Epoch 42/100\n",
      "38/38 [==============================] - 5s 118ms/step - loss: 0.0026\n",
      "Epoch 43/100\n",
      "38/38 [==============================] - 4s 111ms/step - loss: 0.0024\n",
      "Epoch 44/100\n",
      "38/38 [==============================] - 4s 104ms/step - loss: 0.0023\n",
      "Epoch 45/100\n",
      "38/38 [==============================] - 4s 108ms/step - loss: 0.0022\n",
      "Epoch 46/100\n",
      "38/38 [==============================] - 5s 120ms/step - loss: 0.0024\n",
      "Epoch 47/100\n",
      "38/38 [==============================] - 5s 125ms/step - loss: 0.0022\n",
      "Epoch 48/100\n",
      "38/38 [==============================] - 4s 110ms/step - loss: 0.0023\n",
      "Epoch 49/100\n",
      "38/38 [==============================] - 4s 101ms/step - loss: 0.0022\n",
      "Epoch 50/100\n",
      "38/38 [==============================] - 4s 94ms/step - loss: 0.0022\n",
      "Epoch 51/100\n",
      "38/38 [==============================] - 3s 89ms/step - loss: 0.0022\n",
      "Epoch 52/100\n",
      "38/38 [==============================] - 3s 90ms/step - loss: 0.0023\n",
      "Epoch 53/100\n",
      "38/38 [==============================] - 3s 84ms/step - loss: 0.0022\n",
      "Epoch 54/100\n",
      "38/38 [==============================] - 3s 84ms/step - loss: 0.0023\n",
      "Epoch 55/100\n",
      "38/38 [==============================] - 3s 79ms/step - loss: 0.0023\n",
      "Epoch 56/100\n",
      "38/38 [==============================] - 3s 76ms/step - loss: 0.0022\n",
      "Epoch 57/100\n",
      "38/38 [==============================] - 3s 74ms/step - loss: 0.0020\n",
      "Epoch 58/100\n",
      "38/38 [==============================] - 3s 74ms/step - loss: 0.0020\n",
      "Epoch 59/100\n",
      "38/38 [==============================] - 3s 76ms/step - loss: 0.0019\n",
      "Epoch 60/100\n",
      "38/38 [==============================] - 3s 78ms/step - loss: 0.0021\n",
      "Epoch 61/100\n",
      "38/38 [==============================] - 3s 91ms/step - loss: 0.0020\n",
      "Epoch 62/100\n",
      "38/38 [==============================] - 4s 96ms/step - loss: 0.0018\n",
      "Epoch 63/100\n",
      "38/38 [==============================] - 3s 83ms/step - loss: 0.0018\n",
      "Epoch 64/100\n",
      "38/38 [==============================] - 3s 76ms/step - loss: 0.0020\n",
      "Epoch 65/100\n",
      "38/38 [==============================] - 4s 108ms/step - loss: 0.0019\n",
      "Epoch 66/100\n",
      "38/38 [==============================] - 4s 106ms/step - loss: 0.0020\n",
      "Epoch 67/100\n",
      "38/38 [==============================] - 4s 104ms/step - loss: 0.0017\n",
      "Epoch 68/100\n",
      "38/38 [==============================] - 4s 107ms/step - loss: 0.0018\n",
      "Epoch 69/100\n",
      "38/38 [==============================] - 4s 106ms/step - loss: 0.0020\n",
      "Epoch 70/100\n",
      "38/38 [==============================] - 4s 107ms/step - loss: 0.0018\n",
      "Epoch 71/100\n",
      "38/38 [==============================] - 4s 106ms/step - loss: 0.0018\n",
      "Epoch 72/100\n",
      "38/38 [==============================] - 4s 106ms/step - loss: 0.0019\n",
      "Epoch 73/100\n",
      "38/38 [==============================] - 4s 114ms/step - loss: 0.0018\n",
      "Epoch 74/100\n",
      "38/38 [==============================] - 4s 106ms/step - loss: 0.0017\n",
      "Epoch 75/100\n",
      "38/38 [==============================] - 4s 105ms/step - loss: 0.0017\n",
      "Epoch 76/100\n",
      "38/38 [==============================] - 4s 106ms/step - loss: 0.0017\n",
      "Epoch 77/100\n",
      "38/38 [==============================] - 4s 106ms/step - loss: 0.0015\n",
      "Epoch 78/100\n",
      "38/38 [==============================] - 4s 108ms/step - loss: 0.0016\n",
      "Epoch 79/100\n",
      "38/38 [==============================] - 4s 106ms/step - loss: 0.0015\n",
      "Epoch 80/100\n",
      "38/38 [==============================] - 4s 108ms/step - loss: 0.0017\n",
      "Epoch 81/100\n",
      "38/38 [==============================] - 4s 105ms/step - loss: 0.0022\n",
      "Epoch 82/100\n",
      "38/38 [==============================] - 4s 108ms/step - loss: 0.0017\n",
      "Epoch 83/100\n",
      "38/38 [==============================] - 4s 114ms/step - loss: 0.0015\n",
      "Epoch 84/100\n",
      "38/38 [==============================] - 4s 115ms/step - loss: 0.0014\n",
      "Epoch 85/100\n",
      "38/38 [==============================] - 4s 105ms/step - loss: 0.0014\n",
      "Epoch 86/100\n",
      "38/38 [==============================] - 4s 106ms/step - loss: 0.0016\n",
      "Epoch 87/100\n",
      "38/38 [==============================] - 4s 105ms/step - loss: 0.0016\n",
      "Epoch 88/100\n",
      "38/38 [==============================] - 4s 105ms/step - loss: 0.0015\n",
      "Epoch 89/100\n",
      "38/38 [==============================] - 4s 107ms/step - loss: 0.0016\n",
      "Epoch 90/100\n",
      "38/38 [==============================] - 4s 105ms/step - loss: 0.0014\n",
      "Epoch 91/100\n",
      "38/38 [==============================] - 4s 106ms/step - loss: 0.0014\n",
      "Epoch 92/100\n",
      "38/38 [==============================] - 4s 106ms/step - loss: 0.0015\n",
      "Epoch 93/100\n",
      "38/38 [==============================] - 4s 105ms/step - loss: 0.0015\n",
      "Epoch 94/100\n",
      "38/38 [==============================] - 4s 107ms/step - loss: 0.0017\n",
      "Epoch 95/100\n",
      "38/38 [==============================] - 4s 108ms/step - loss: 0.0015\n",
      "Epoch 96/100\n",
      "38/38 [==============================] - 4s 108ms/step - loss: 0.0013\n",
      "Epoch 97/100\n",
      "38/38 [==============================] - 4s 107ms/step - loss: 0.0016\n",
      "Epoch 98/100\n",
      "38/38 [==============================] - 4s 106ms/step - loss: 0.0014\n",
      "Epoch 99/100\n",
      "38/38 [==============================] - 4s 106ms/step - loss: 0.0013\n",
      "Epoch 100/100\n",
      "38/38 [==============================] - 4s 107ms/step - loss: 0.0015\n"
     ]
    },
    {
     "data": {
      "text/plain": [
       "<keras.src.callbacks.History at 0x1c874fe79d0>"
      ]
     },
     "execution_count": 21,
     "metadata": {},
     "output_type": "execute_result"
    }
   ],
   "source": [
    "regressor.fit(X_train, y_train, epochs = 100, batch_size = 32)"
   ]
  },
  {
   "cell_type": "markdown",
   "metadata": {},
   "source": [
    "## Making Predictions and Visualizing the results"
   ]
  },
  {
   "cell_type": "code",
   "execution_count": 26,
   "metadata": {},
   "outputs": [],
   "source": [
    "df_test = pd.read_csv('Google_Stock_Price_Test.csv')\n",
    "real_stock_price = df_test.iloc[:, 1:2].values"
   ]
  },
  {
   "cell_type": "code",
   "execution_count": 27,
   "metadata": {},
   "outputs": [],
   "source": [
    "df_total = pd.concat((df['Open'], df_test['Open']), axis = 0)\n",
    "inputs = df_total[len(df_total) - len(df_test) - 60:].values\n",
    "inputs = inputs.reshape(-1, 1)\n",
    "inputs = sc.transform(inputs)\n",
    "\n",
    "X_test = []\n",
    "for i in range(60, 80):\n",
    "    X_test.append(inputs[i-60:i, 0])\n",
    "X_test = np.array(X_test)\n",
    "\n",
    "X_test = np.reshape(X_test, (X_test.shape[0], X_test.shape[1], 1))"
   ]
  },
  {
   "cell_type": "markdown",
   "metadata": {},
   "source": [
    "### Predicting the results"
   ]
  },
  {
   "cell_type": "code",
   "execution_count": 28,
   "metadata": {},
   "outputs": [
    {
     "name": "stdout",
     "output_type": "stream",
     "text": [
      "1/1 [==============================] - 3s 3s/step\n"
     ]
    }
   ],
   "source": [
    "predicted_stock_price = regressor.predict(X_test)\n",
    "predicted_stock_price = sc.inverse_transform(predicted_stock_price)"
   ]
  },
  {
   "cell_type": "markdown",
   "metadata": {},
   "source": [
    "### Visualizing the Results"
   ]
  },
  {
   "cell_type": "code",
   "execution_count": 29,
   "metadata": {},
   "outputs": [
    {
     "data": {
      "image/png": "[encoded data removed]",
      "text/plain": [
       "<Figure size 640x480 with 1 Axes>"
      ]
     },
     "metadata": {},
     "output_type": "display_data"
    }
   ],
   "source": [
    "plt.plot(real_stock_price, color = 'red', label = 'Real Google Stock Price')\n",
    "plt.plot(predicted_stock_price, color = 'blue', label = 'Predicted Google Stock Price')\n",
    "plt.title('Google Stock Price Prediction')\n",
    "plt.xlabel('Time')\n",
    "plt.ylabel('Google Stock Price')\n",
    "plt.legend()\n",
    "plt.show()"
   ]
  },
  {
   "cell_type": "code",
   "execution_count": 31,
   "metadata": {},
   "outputs": [
    {
     "name": "stdout",
     "output_type": "stream",
     "text": [
      "19.366532675551387\n"
     ]
    }
   ],
   "source": [
    "import math\n",
    "from sklearn.metrics import mean_squared_error\n",
    "rmse = math.sqrt(mean_squared_error(real_stock_price, predicted_stock_price))\n",
    "print(rmse)"
   ]
  },
  {
   "cell_type": "code",
   "execution_count": null,
   "metadata": {},
   "outputs": [],
   "source": []
  }
 ],
 "metadata": {
  "kernelspec": {
   "display_name": "Python 3",
   "language": "python",
   "name": "python3"
  },
  "language_info": {
   "codemirror_mode": {
    "name": "ipython",
    "version": 3
   },
   "file_extension": ".py",
   "mimetype": "text/x-python",
   "name": "python",
   "nbconvert_exporter": "python",
   "pygments_lexer": "ipython3",
   "version": "3.11.5"
  }
 },
 "nbformat": 4,
 "nbformat_minor": 2
}
