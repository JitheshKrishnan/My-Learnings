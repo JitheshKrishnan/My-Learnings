{
 "cells": [
  {
   "cell_type": "code",
   "execution_count": 6,
   "id": "a4cc7127",
   "metadata": {},
   "outputs": [],
   "source": [
    "# command mode: blue mode\n",
    "# edit mode: green\n",
    "# command mode -> edit mode : press enter or you can click using mouse in the cell\n",
    "# edit mode -> command mode : press esc\n",
    "\n",
    "# ctrl + enter ; used to run or to execute the whole chunk of code you have written in the cell\n",
    "# you will see a change in []number when you execute any cell\n",
    "\n",
    "#ctrl + enter can execute the code but it will not add or move to the next cell.\n",
    "\n",
    "#while\n",
    "#shift + enter will exceute the code and move to next cell"
   ]
  },
  {
   "cell_type": "code",
   "execution_count": 7,
   "id": "9a91f7d9",
   "metadata": {},
   "outputs": [
    {
     "name": "stdout",
     "output_type": "stream",
     "text": [
      "Hello\n"
     ]
    }
   ],
   "source": [
    "print(\"Hello\")"
   ]
  },
  {
   "cell_type": "code",
   "execution_count": null,
   "id": "9bfc3f90",
   "metadata": {},
   "outputs": [],
   "source": [
    "# add any cell above this cell, you can use 'a' only when you are in command mode\n",
    "# add any cell below this cell you can use 'b' only when you are in command mode"
   ]
  },
  {
   "cell_type": "markdown",
   "id": "203e812c",
   "metadata": {},
   "source": [
    "# First program "
   ]
  },
  {
   "cell_type": "markdown",
   "id": "9716b827",
   "metadata": {},
   "source": [
    "# Second program"
   ]
  },
  {
   "cell_type": "markdown",
   "id": "c56b605b",
   "metadata": {},
   "source": [
    "#### using markdown"
   ]
  },
  {
   "cell_type": "code",
   "execution_count": 7,
   "id": "183d2e06",
   "metadata": {},
   "outputs": [],
   "source": [
    "# the no of '#' determines the size of the markdown"
   ]
  },
  {
   "cell_type": "code",
   "execution_count": 1,
   "id": "f41c8bb4",
   "metadata": {},
   "outputs": [],
   "source": [
    "# ctrl + / for commenting and uncommenting multiple lines of code"
   ]
  },
  {
   "cell_type": "code",
   "execution_count": 2,
   "id": "5eab8e2b",
   "metadata": {},
   "outputs": [
    {
     "name": "stdout",
     "output_type": "stream",
     "text": [
      "hello\n",
      "world\n"
     ]
    }
   ],
   "source": [
    "print(\"hello\")\n",
    "print('world')"
   ]
  },
  {
   "cell_type": "markdown",
   "id": "3210e015",
   "metadata": {},
   "source": [
    "# ARITHMETIC OPERATIONS\n"
   ]
  },
  {
   "cell_type": "markdown",
   "id": "382692cc",
   "metadata": {},
   "source": [
    "# Addition"
   ]
  },
  {
   "cell_type": "code",
   "execution_count": 4,
   "id": "362e0d3a",
   "metadata": {},
   "outputs": [
    {
     "data": {
      "text/plain": [
       "3"
      ]
     },
     "execution_count": 4,
     "metadata": {},
     "output_type": "execute_result"
    }
   ],
   "source": [
    "1+2"
   ]
  },
  {
   "cell_type": "markdown",
   "id": "7a5ee53f",
   "metadata": {},
   "source": [
    "# subtraction"
   ]
  },
  {
   "cell_type": "code",
   "execution_count": 6,
   "id": "3b16ba25",
   "metadata": {},
   "outputs": [
    {
     "data": {
      "text/plain": [
       "6"
      ]
     },
     "execution_count": 6,
     "metadata": {},
     "output_type": "execute_result"
    }
   ],
   "source": [
    "10-4"
   ]
  },
  {
   "cell_type": "code",
   "execution_count": 7,
   "id": "32e3298e",
   "metadata": {},
   "outputs": [
    {
     "data": {
      "text/plain": [
       "-6"
      ]
     },
     "execution_count": 7,
     "metadata": {},
     "output_type": "execute_result"
    }
   ],
   "source": [
    "10-16"
   ]
  },
  {
   "cell_type": "markdown",
   "id": "18d5cb7a",
   "metadata": {},
   "source": [
    "# multiplication"
   ]
  },
  {
   "cell_type": "code",
   "execution_count": 9,
   "id": "89b809a2",
   "metadata": {},
   "outputs": [
    {
     "data": {
      "text/plain": [
       "18"
      ]
     },
     "execution_count": 9,
     "metadata": {},
     "output_type": "execute_result"
    }
   ],
   "source": [
    "2*9"
   ]
  },
  {
   "cell_type": "markdown",
   "id": "e0cc8fd9",
   "metadata": {},
   "source": [
    "# division"
   ]
  },
  {
   "cell_type": "code",
   "execution_count": 10,
   "id": "d1e4c1c9",
   "metadata": {},
   "outputs": [
    {
     "data": {
      "text/plain": [
       "2.5"
      ]
     },
     "execution_count": 10,
     "metadata": {},
     "output_type": "execute_result"
    }
   ],
   "source": [
    "10/4"
   ]
  },
  {
   "cell_type": "markdown",
   "id": "2a1d1502",
   "metadata": {},
   "source": [
    "# exponentiation"
   ]
  },
  {
   "cell_type": "code",
   "execution_count": 11,
   "id": "53327db3",
   "metadata": {},
   "outputs": [
    {
     "data": {
      "text/plain": [
       "3125"
      ]
     },
     "execution_count": 11,
     "metadata": {},
     "output_type": "execute_result"
    }
   ],
   "source": [
    "5**5"
   ]
  },
  {
   "cell_type": "code",
   "execution_count": 13,
   "id": "928fc430",
   "metadata": {},
   "outputs": [
    {
     "data": {
      "text/plain": [
       "1024"
      ]
     },
     "execution_count": 13,
     "metadata": {},
     "output_type": "execute_result"
    }
   ],
   "source": [
    "2**10"
   ]
  },
  {
   "cell_type": "code",
   "execution_count": 14,
   "id": "0f703c76",
   "metadata": {},
   "outputs": [
    {
     "data": {
      "text/plain": [
       "1024"
      ]
     },
     "execution_count": 14,
     "metadata": {},
     "output_type": "execute_result"
    }
   ],
   "source": [
    "pow(2,10)"
   ]
  },
  {
   "cell_type": "markdown",
   "id": "3bcf5560",
   "metadata": {},
   "source": [
    "# quotient"
   ]
  },
  {
   "cell_type": "code",
   "execution_count": 15,
   "id": "b404bbd6",
   "metadata": {},
   "outputs": [
    {
     "data": {
      "text/plain": [
       "3.3333333333333335"
      ]
     },
     "execution_count": 15,
     "metadata": {},
     "output_type": "execute_result"
    }
   ],
   "source": [
    "10/3 = 3+1"
   ]
  },
  {
   "cell_type": "code",
   "execution_count": 16,
   "id": "c48ecbf2",
   "metadata": {},
   "outputs": [
    {
     "data": {
      "text/plain": [
       "3"
      ]
     },
     "execution_count": 16,
     "metadata": {},
     "output_type": "execute_result"
    }
   ],
   "source": [
    "10//3"
   ]
  },
  {
   "cell_type": "code",
   "execution_count": 17,
   "id": "0e3086aa",
   "metadata": {},
   "outputs": [
    {
     "data": {
      "text/plain": [
       "5"
      ]
     },
     "execution_count": 17,
     "metadata": {},
     "output_type": "execute_result"
    }
   ],
   "source": [
    "40//7"
   ]
  },
  {
   "cell_type": "markdown",
   "id": "765fa31a",
   "metadata": {},
   "source": [
    "# modulus or remainder"
   ]
  },
  {
   "cell_type": "code",
   "execution_count": 18,
   "id": "ce51ae92",
   "metadata": {},
   "outputs": [
    {
     "data": {
      "text/plain": [
       "1"
      ]
     },
     "execution_count": 18,
     "metadata": {},
     "output_type": "execute_result"
    }
   ],
   "source": [
    "10%3"
   ]
  },
  {
   "cell_type": "code",
   "execution_count": 19,
   "id": "a93bdac3",
   "metadata": {},
   "outputs": [
    {
     "data": {
      "text/plain": [
       "1"
      ]
     },
     "execution_count": 19,
     "metadata": {},
     "output_type": "execute_result"
    }
   ],
   "source": [
    "100%11"
   ]
  },
  {
   "cell_type": "code",
   "execution_count": 20,
   "id": "2bff01eb",
   "metadata": {},
   "outputs": [],
   "source": [
    "# quotient *no with which you are dividing + r "
   ]
  },
  {
   "cell_type": "code",
   "execution_count": 21,
   "id": "e0da14fc",
   "metadata": {},
   "outputs": [
    {
     "data": {
      "text/plain": [
       "9"
      ]
     },
     "execution_count": 21,
     "metadata": {},
     "output_type": "execute_result"
    }
   ],
   "source": [
    "68//7"
   ]
  },
  {
   "cell_type": "code",
   "execution_count": 22,
   "id": "5d954624",
   "metadata": {},
   "outputs": [
    {
     "data": {
      "text/plain": [
       "5"
      ]
     },
     "execution_count": 22,
     "metadata": {},
     "output_type": "execute_result"
    }
   ],
   "source": [
    "68%7"
   ]
  },
  {
   "cell_type": "code",
   "execution_count": 23,
   "id": "022d2bdb",
   "metadata": {},
   "outputs": [
    {
     "data": {
      "text/plain": [
       "68"
      ]
     },
     "execution_count": 23,
     "metadata": {},
     "output_type": "execute_result"
    }
   ],
   "source": [
    "7*9+5"
   ]
  },
  {
   "cell_type": "markdown",
   "id": "67fcd5d3",
   "metadata": {},
   "source": [
    "# DATA TYPES"
   ]
  },
  {
   "cell_type": "code",
   "execution_count": 14,
   "id": "371e5c55",
   "metadata": {},
   "outputs": [],
   "source": [
    "x=10"
   ]
  },
  {
   "cell_type": "code",
   "execution_count": 15,
   "id": "0ecd2498",
   "metadata": {},
   "outputs": [
    {
     "data": {
      "text/plain": [
       "int"
      ]
     },
     "execution_count": 15,
     "metadata": {},
     "output_type": "execute_result"
    }
   ],
   "source": [
    "type(x)"
   ]
  },
  {
   "cell_type": "code",
   "execution_count": 28,
   "id": "eb40e95f",
   "metadata": {},
   "outputs": [
    {
     "data": {
      "text/plain": [
       "str"
      ]
     },
     "execution_count": 28,
     "metadata": {},
     "output_type": "execute_result"
    }
   ],
   "source": [
    "x='10'\n",
    "type(x)"
   ]
  },
  {
   "cell_type": "code",
   "execution_count": 30,
   "id": "e1f434ee",
   "metadata": {},
   "outputs": [
    {
     "data": {
      "text/plain": [
       "bool"
      ]
     },
     "execution_count": 30,
     "metadata": {},
     "output_type": "execute_result"
    }
   ],
   "source": [
    "y=True\n",
    "type(y)"
   ]
  },
  {
   "cell_type": "code",
   "execution_count": 31,
   "id": "77fa0d36",
   "metadata": {},
   "outputs": [
    {
     "data": {
      "text/plain": [
       "complex"
      ]
     },
     "execution_count": 31,
     "metadata": {},
     "output_type": "execute_result"
    }
   ],
   "source": [
    "z=2+4j\n",
    "type(z)"
   ]
  },
  {
   "cell_type": "code",
   "execution_count": 32,
   "id": "4152062d",
   "metadata": {},
   "outputs": [
    {
     "data": {
      "text/plain": [
       "list"
      ]
     },
     "execution_count": 32,
     "metadata": {},
     "output_type": "execute_result"
    }
   ],
   "source": [
    "x=[1,2,3,'hello']\n",
    "type(x)"
   ]
  },
  {
   "cell_type": "code",
   "execution_count": 33,
   "id": "47c43a46",
   "metadata": {},
   "outputs": [
    {
     "data": {
      "text/plain": [
       "tuple"
      ]
     },
     "execution_count": 33,
     "metadata": {},
     "output_type": "execute_result"
    }
   ],
   "source": [
    "x=(1,2,3)\n",
    "type(x)"
   ]
  },
  {
   "cell_type": "code",
   "execution_count": 34,
   "id": "55776c64",
   "metadata": {},
   "outputs": [
    {
     "data": {
      "text/plain": [
       "set"
      ]
     },
     "execution_count": 34,
     "metadata": {},
     "output_type": "execute_result"
    }
   ],
   "source": [
    "x={1,2,3}\n",
    "type(x)"
   ]
  },
  {
   "cell_type": "code",
   "execution_count": 35,
   "id": "54e5db23",
   "metadata": {},
   "outputs": [
    {
     "data": {
      "text/plain": [
       "dict"
      ]
     },
     "execution_count": 35,
     "metadata": {},
     "output_type": "execute_result"
    }
   ],
   "source": [
    "x={'black':11,'red':2,'blue':3}\n",
    "type(x)"
   ]
  },
  {
   "cell_type": "markdown",
   "id": "5c6fdb02",
   "metadata": {},
   "source": [
    "# type casting"
   ]
  },
  {
   "cell_type": "code",
   "execution_count": 38,
   "id": "ca76257f",
   "metadata": {},
   "outputs": [],
   "source": [
    "x='12'"
   ]
  },
  {
   "cell_type": "code",
   "execution_count": 39,
   "id": "c40b331c",
   "metadata": {},
   "outputs": [
    {
     "data": {
      "text/plain": [
       "str"
      ]
     },
     "execution_count": 39,
     "metadata": {},
     "output_type": "execute_result"
    }
   ],
   "source": [
    "type(x)"
   ]
  },
  {
   "cell_type": "code",
   "execution_count": 40,
   "id": "8b0d92aa",
   "metadata": {},
   "outputs": [
    {
     "data": {
      "text/plain": [
       "int"
      ]
     },
     "execution_count": 40,
     "metadata": {},
     "output_type": "execute_result"
    }
   ],
   "source": [
    "y= int(x)\n",
    "type(y)"
   ]
  },
  {
   "cell_type": "code",
   "execution_count": 41,
   "id": "04297e03",
   "metadata": {},
   "outputs": [
    {
     "data": {
      "text/plain": [
       "12"
      ]
     },
     "execution_count": 41,
     "metadata": {},
     "output_type": "execute_result"
    }
   ],
   "source": [
    "int('12')"
   ]
  },
  {
   "cell_type": "code",
   "execution_count": 44,
   "id": "295fdb83",
   "metadata": {},
   "outputs": [
    {
     "data": {
      "text/plain": [
       "13"
      ]
     },
     "execution_count": 44,
     "metadata": {},
     "output_type": "execute_result"
    }
   ],
   "source": [
    "int(13.24)"
   ]
  },
  {
   "cell_type": "code",
   "execution_count": 43,
   "id": "9ad877f3",
   "metadata": {},
   "outputs": [
    {
     "data": {
      "text/plain": [
       "12"
      ]
     },
     "execution_count": 43,
     "metadata": {},
     "output_type": "execute_result"
    }
   ],
   "source": [
    "int(12)"
   ]
  },
  {
   "cell_type": "code",
   "execution_count": 45,
   "id": "11e570b9",
   "metadata": {},
   "outputs": [
    {
     "data": {
      "text/plain": [
       "10.0"
      ]
     },
     "execution_count": 45,
     "metadata": {},
     "output_type": "execute_result"
    }
   ],
   "source": [
    "float('10')"
   ]
  },
  {
   "cell_type": "code",
   "execution_count": 46,
   "id": "401db527",
   "metadata": {},
   "outputs": [
    {
     "data": {
      "text/plain": [
       "'12'"
      ]
     },
     "execution_count": 46,
     "metadata": {},
     "output_type": "execute_result"
    }
   ],
   "source": [
    "str('12')"
   ]
  },
  {
   "cell_type": "code",
   "execution_count": 47,
   "id": "690401e8",
   "metadata": {},
   "outputs": [
    {
     "data": {
      "text/plain": [
       "'12'"
      ]
     },
     "execution_count": 47,
     "metadata": {},
     "output_type": "execute_result"
    }
   ],
   "source": [
    "str(12)"
   ]
  },
  {
   "cell_type": "code",
   "execution_count": 48,
   "id": "3a188221",
   "metadata": {},
   "outputs": [
    {
     "data": {
      "text/plain": [
       "12.25"
      ]
     },
     "execution_count": 48,
     "metadata": {},
     "output_type": "execute_result"
    }
   ],
   "source": [
    "float('12.25')"
   ]
  },
  {
   "cell_type": "code",
   "execution_count": 49,
   "id": "bb6bb4c6",
   "metadata": {},
   "outputs": [
    {
     "data": {
      "text/plain": [
       "12"
      ]
     },
     "execution_count": 49,
     "metadata": {},
     "output_type": "execute_result"
    }
   ],
   "source": [
    "int(float('12.25'))"
   ]
  },
  {
   "cell_type": "code",
   "execution_count": 50,
   "id": "cbf8a24f",
   "metadata": {},
   "outputs": [
    {
     "data": {
      "text/plain": [
       "int"
      ]
     },
     "execution_count": 50,
     "metadata": {},
     "output_type": "execute_result"
    }
   ],
   "source": [
    "type(int(float('12.25')))"
   ]
  },
  {
   "cell_type": "markdown",
   "id": "d5bc1531",
   "metadata": {},
   "source": [
    "# USER INPUT"
   ]
  },
  {
   "cell_type": "code",
   "execution_count": 55,
   "id": "017b07ae",
   "metadata": {},
   "outputs": [],
   "source": [
    "# input we get from user is a character as it will be displayed inside \"\""
   ]
  },
  {
   "cell_type": "code",
   "execution_count": 24,
   "id": "f5b493da",
   "metadata": {},
   "outputs": [
    {
     "name": "stdout",
     "output_type": "stream",
     "text": [
      "0\n"
     ]
    }
   ],
   "source": [
    "x = int(input())"
   ]
  },
  {
   "cell_type": "code",
   "execution_count": 18,
   "id": "c0d41905",
   "metadata": {},
   "outputs": [
    {
     "name": "stdout",
     "output_type": "stream",
     "text": [
      "enter your age:0\n"
     ]
    }
   ],
   "source": [
    "x=input(\"enter your age:\")"
   ]
  },
  {
   "cell_type": "code",
   "execution_count": 19,
   "id": "e2d3768d",
   "metadata": {},
   "outputs": [
    {
     "data": {
      "text/plain": [
       "'0'"
      ]
     },
     "execution_count": 19,
     "metadata": {},
     "output_type": "execute_result"
    }
   ],
   "source": [
    "x"
   ]
  },
  {
   "cell_type": "code",
   "execution_count": 56,
   "id": "d2b763ba",
   "metadata": {},
   "outputs": [
    {
     "name": "stdout",
     "output_type": "stream",
     "text": [
      "enter your age:16\n"
     ]
    }
   ],
   "source": [
    "x = int(input(\"enter your age:\"))"
   ]
  },
  {
   "cell_type": "code",
   "execution_count": 57,
   "id": "bda9ef22",
   "metadata": {},
   "outputs": [
    {
     "name": "stdout",
     "output_type": "stream",
     "text": [
      "enter your age:12\n"
     ]
    }
   ],
   "source": [
    "x=float(input(\"enter your age:\"))"
   ]
  },
  {
   "cell_type": "code",
   "execution_count": 58,
   "id": "8c353519",
   "metadata": {},
   "outputs": [
    {
     "name": "stdout",
     "output_type": "stream",
     "text": [
      "12.0\n"
     ]
    }
   ],
   "source": [
    "print(x)"
   ]
  },
  {
   "cell_type": "code",
   "execution_count": 59,
   "id": "73fdba1e",
   "metadata": {},
   "outputs": [
    {
     "name": "stdout",
     "output_type": "stream",
     "text": [
      "9\n"
     ]
    }
   ],
   "source": [
    "print(9)"
   ]
  },
  {
   "cell_type": "code",
   "execution_count": 60,
   "id": "dcb100ac",
   "metadata": {},
   "outputs": [
    {
     "name": "stdout",
     "output_type": "stream",
     "text": [
      "my age is 12.0\n"
     ]
    }
   ],
   "source": [
    "print(\"my age is\",x)"
   ]
  },
  {
   "cell_type": "code",
   "execution_count": null,
   "id": "c4ce7cfa",
   "metadata": {},
   "outputs": [],
   "source": [
    "#formatting print statement"
   ]
  },
  {
   "cell_type": "code",
   "execution_count": 2,
   "id": "20ad252a",
   "metadata": {},
   "outputs": [
    {
     "name": "stdout",
     "output_type": "stream",
     "text": [
      "sam:: enter your age:23\n"
     ]
    }
   ],
   "source": [
    "x = int(input(\"sam:: enter your age:\"))"
   ]
  },
  {
   "cell_type": "code",
   "execution_count": 3,
   "id": "3c3c24e6",
   "metadata": {},
   "outputs": [
    {
     "data": {
      "text/plain": [
       "23"
      ]
     },
     "execution_count": 3,
     "metadata": {},
     "output_type": "execute_result"
    }
   ],
   "source": [
    "x"
   ]
  },
  {
   "cell_type": "code",
   "execution_count": 4,
   "id": "42fc6f57",
   "metadata": {},
   "outputs": [],
   "source": [
    "y=x+30"
   ]
  },
  {
   "cell_type": "code",
   "execution_count": 5,
   "id": "c628680f",
   "metadata": {},
   "outputs": [
    {
     "data": {
      "text/plain": [
       "53"
      ]
     },
     "execution_count": 5,
     "metadata": {},
     "output_type": "execute_result"
    }
   ],
   "source": [
    "y"
   ]
  },
  {
   "cell_type": "code",
   "execution_count": 6,
   "id": "5b3fe64f",
   "metadata": {},
   "outputs": [
    {
     "name": "stdout",
     "output_type": "stream",
     "text": [
      "sam is 23 years old and his father is 53 years old\n"
     ]
    }
   ],
   "source": [
    "print(\"sam is\",x,\"years old and his father is\",y,\"years old\")"
   ]
  },
  {
   "cell_type": "code",
   "execution_count": 10,
   "id": "730aad8a",
   "metadata": {},
   "outputs": [
    {
     "name": "stdout",
     "output_type": "stream",
     "text": [
      "sam is 23 years old and his father is 53 years old\n"
     ]
    }
   ],
   "source": [
    "print(\"sam is {x} years old and his father is {y} years old\".format(x=23,y=53))"
   ]
  },
  {
   "cell_type": "code",
   "execution_count": 11,
   "id": "582a62bd",
   "metadata": {},
   "outputs": [
    {
     "name": "stdout",
     "output_type": "stream",
     "text": [
      "sam is 23 years old and his father is 53 years old\n"
     ]
    }
   ],
   "source": [
    "print(\"sam is {0} years old and his father is {1} years old\".format(x,y))"
   ]
  },
  {
   "cell_type": "code",
   "execution_count": 12,
   "id": "8ffef05e",
   "metadata": {},
   "outputs": [
    {
     "name": "stdout",
     "output_type": "stream",
     "text": [
      "sam is 23 years old and his father is 53 years old\n"
     ]
    }
   ],
   "source": [
    "print(\"sam is {} years old and his father is {} years old\".format(23,53))"
   ]
  },
  {
   "cell_type": "code",
   "execution_count": 13,
   "id": "b93fb543",
   "metadata": {},
   "outputs": [
    {
     "name": "stdout",
     "output_type": "stream",
     "text": [
      "sam is 23 years old and his father is 53 years old\n"
     ]
    }
   ],
   "source": [
    "print(\"sam is {} years old and his father is {} years old\".format(x,y))"
   ]
  },
  {
   "cell_type": "markdown",
   "id": "6f7214f2",
   "metadata": {},
   "source": [
    "# INDENTATION"
   ]
  },
  {
   "cell_type": "code",
   "execution_count": 25,
   "id": "18173bfb",
   "metadata": {},
   "outputs": [
    {
     "name": "stdout",
     "output_type": "stream",
     "text": [
      "bye\n"
     ]
    }
   ],
   "source": [
    "if (x>=1):\n",
    "    print(\"hi\")\n",
    "else:\n",
    "    print(\"bye\")"
   ]
  },
  {
   "cell_type": "markdown",
   "id": "f83a7e30",
   "metadata": {},
   "source": [
    "# ASSIGNMENT OPERATORS"
   ]
  },
  {
   "cell_type": "code",
   "execution_count": 15,
   "id": "64f26a29",
   "metadata": {},
   "outputs": [],
   "source": [
    "X=5"
   ]
  },
  {
   "cell_type": "code",
   "execution_count": 16,
   "id": "526bdcd7",
   "metadata": {},
   "outputs": [
    {
     "data": {
      "text/plain": [
       "5"
      ]
     },
     "execution_count": 16,
     "metadata": {},
     "output_type": "execute_result"
    }
   ],
   "source": [
    "X"
   ]
  },
  {
   "cell_type": "code",
   "execution_count": 17,
   "id": "d870f04d",
   "metadata": {},
   "outputs": [],
   "source": [
    "X+=10"
   ]
  },
  {
   "cell_type": "code",
   "execution_count": 18,
   "id": "280feb9e",
   "metadata": {},
   "outputs": [
    {
     "data": {
      "text/plain": [
       "15"
      ]
     },
     "execution_count": 18,
     "metadata": {},
     "output_type": "execute_result"
    }
   ],
   "source": [
    "X"
   ]
  },
  {
   "cell_type": "code",
   "execution_count": 19,
   "id": "e60e08e9",
   "metadata": {},
   "outputs": [],
   "source": [
    "X-=10"
   ]
  },
  {
   "cell_type": "code",
   "execution_count": 20,
   "id": "e7c98252",
   "metadata": {},
   "outputs": [
    {
     "data": {
      "text/plain": [
       "5"
      ]
     },
     "execution_count": 20,
     "metadata": {},
     "output_type": "execute_result"
    }
   ],
   "source": [
    "X"
   ]
  },
  {
   "cell_type": "code",
   "execution_count": 21,
   "id": "7902828b",
   "metadata": {},
   "outputs": [],
   "source": [
    "X*=3"
   ]
  },
  {
   "cell_type": "code",
   "execution_count": 22,
   "id": "ec60f62a",
   "metadata": {},
   "outputs": [
    {
     "data": {
      "text/plain": [
       "15"
      ]
     },
     "execution_count": 22,
     "metadata": {},
     "output_type": "execute_result"
    }
   ],
   "source": [
    "X"
   ]
  },
  {
   "cell_type": "code",
   "execution_count": 23,
   "id": "1cc9244e",
   "metadata": {},
   "outputs": [],
   "source": [
    "X/=10"
   ]
  },
  {
   "cell_type": "code",
   "execution_count": 24,
   "id": "4509ae2e",
   "metadata": {},
   "outputs": [
    {
     "data": {
      "text/plain": [
       "1.5"
      ]
     },
     "execution_count": 24,
     "metadata": {},
     "output_type": "execute_result"
    }
   ],
   "source": [
    "X"
   ]
  },
  {
   "cell_type": "code",
   "execution_count": 25,
   "id": "2a3eb53e",
   "metadata": {},
   "outputs": [],
   "source": [
    "X%=1"
   ]
  },
  {
   "cell_type": "code",
   "execution_count": 26,
   "id": "b469f26d",
   "metadata": {},
   "outputs": [
    {
     "data": {
      "text/plain": [
       "0.5"
      ]
     },
     "execution_count": 26,
     "metadata": {},
     "output_type": "execute_result"
    }
   ],
   "source": [
    "X"
   ]
  },
  {
   "cell_type": "code",
   "execution_count": 27,
   "id": "6964a765",
   "metadata": {},
   "outputs": [],
   "source": [
    "X**=3"
   ]
  },
  {
   "cell_type": "code",
   "execution_count": 28,
   "id": "3997e8cd",
   "metadata": {},
   "outputs": [
    {
     "data": {
      "text/plain": [
       "0.125"
      ]
     },
     "execution_count": 28,
     "metadata": {},
     "output_type": "execute_result"
    }
   ],
   "source": [
    "X"
   ]
  },
  {
   "cell_type": "code",
   "execution_count": 29,
   "id": "1f2253dc",
   "metadata": {},
   "outputs": [],
   "source": [
    "X=X*1000"
   ]
  },
  {
   "cell_type": "code",
   "execution_count": 30,
   "id": "18a8cb55",
   "metadata": {},
   "outputs": [
    {
     "data": {
      "text/plain": [
       "125.0"
      ]
     },
     "execution_count": 30,
     "metadata": {},
     "output_type": "execute_result"
    }
   ],
   "source": [
    "X"
   ]
  },
  {
   "cell_type": "code",
   "execution_count": 31,
   "id": "c9374aa8",
   "metadata": {},
   "outputs": [],
   "source": [
    "X//=5"
   ]
  },
  {
   "cell_type": "code",
   "execution_count": 32,
   "id": "4cb2efd8",
   "metadata": {},
   "outputs": [
    {
     "data": {
      "text/plain": [
       "25.0"
      ]
     },
     "execution_count": 32,
     "metadata": {},
     "output_type": "execute_result"
    }
   ],
   "source": [
    "X"
   ]
  },
  {
   "cell_type": "markdown",
   "id": "6279c512",
   "metadata": {},
   "source": [
    "# LIST"
   ]
  },
  {
   "cell_type": "code",
   "execution_count": 33,
   "id": "e112764d",
   "metadata": {},
   "outputs": [],
   "source": [
    "list1=['sam',True,1,2,3.5]"
   ]
  },
  {
   "cell_type": "code",
   "execution_count": 34,
   "id": "cb791708",
   "metadata": {},
   "outputs": [
    {
     "data": {
      "text/plain": [
       "['sam', True, 1, 2, 3.5]"
      ]
     },
     "execution_count": 34,
     "metadata": {},
     "output_type": "execute_result"
    }
   ],
   "source": [
    "list1"
   ]
  },
  {
   "cell_type": "code",
   "execution_count": 35,
   "id": "83b495d6",
   "metadata": {},
   "outputs": [
    {
     "data": {
      "text/plain": [
       "'sam'"
      ]
     },
     "execution_count": 35,
     "metadata": {},
     "output_type": "execute_result"
    }
   ],
   "source": [
    "list1[0]"
   ]
  },
  {
   "cell_type": "code",
   "execution_count": 37,
   "id": "363a10ff",
   "metadata": {},
   "outputs": [
    {
     "data": {
      "text/plain": [
       "2"
      ]
     },
     "execution_count": 37,
     "metadata": {},
     "output_type": "execute_result"
    }
   ],
   "source": [
    "list1[3]"
   ]
  },
  {
   "cell_type": "code",
   "execution_count": 39,
   "id": "fe34e4c3",
   "metadata": {},
   "outputs": [
    {
     "data": {
      "text/plain": [
       "3.5"
      ]
     },
     "execution_count": 39,
     "metadata": {},
     "output_type": "execute_result"
    }
   ],
   "source": [
    "list1[-1]"
   ]
  },
  {
   "cell_type": "code",
   "execution_count": 40,
   "id": "a96050f6",
   "metadata": {},
   "outputs": [
    {
     "data": {
      "text/plain": [
       "5"
      ]
     },
     "execution_count": 40,
     "metadata": {},
     "output_type": "execute_result"
    }
   ],
   "source": [
    "len(list1)"
   ]
  },
  {
   "cell_type": "code",
   "execution_count": 42,
   "id": "22f000d5",
   "metadata": {},
   "outputs": [
    {
     "data": {
      "text/plain": [
       "3.5"
      ]
     },
     "execution_count": 42,
     "metadata": {},
     "output_type": "execute_result"
    }
   ],
   "source": [
    "list1[len(list1)-1]"
   ]
  },
  {
   "cell_type": "code",
   "execution_count": 43,
   "id": "6f0399cc",
   "metadata": {},
   "outputs": [],
   "source": [
    "l1=list1"
   ]
  },
  {
   "cell_type": "code",
   "execution_count": 45,
   "id": "3feda3c5",
   "metadata": {},
   "outputs": [
    {
     "data": {
      "text/plain": [
       "['sam', True, 1, 2, 3.5]"
      ]
     },
     "execution_count": 45,
     "metadata": {},
     "output_type": "execute_result"
    }
   ],
   "source": [
    "l1[:]"
   ]
  },
  {
   "cell_type": "code",
   "execution_count": 46,
   "id": "5eeefe32",
   "metadata": {},
   "outputs": [
    {
     "data": {
      "text/plain": [
       "[3.5, 2, 1, True, 'sam']"
      ]
     },
     "execution_count": 46,
     "metadata": {},
     "output_type": "execute_result"
    }
   ],
   "source": [
    "l1[::-1]"
   ]
  },
  {
   "cell_type": "code",
   "execution_count": 47,
   "id": "a9ccb7c5",
   "metadata": {},
   "outputs": [
    {
     "data": {
      "text/plain": [
       "['sam', True, 1, 2]"
      ]
     },
     "execution_count": 47,
     "metadata": {},
     "output_type": "execute_result"
    }
   ],
   "source": [
    "l1[:-1]"
   ]
  },
  {
   "cell_type": "markdown",
   "id": "9447b1fc",
   "metadata": {},
   "source": [
    "# LIST METHODS"
   ]
  },
  {
   "cell_type": "code",
   "execution_count": 36,
   "id": "51087f51",
   "metadata": {},
   "outputs": [],
   "source": [
    "l1=[2,3,4,5,6]\n",
    "l1.append(10)"
   ]
  },
  {
   "cell_type": "code",
   "execution_count": 37,
   "id": "573c0685",
   "metadata": {},
   "outputs": [
    {
     "data": {
      "text/plain": [
       "[2, 3, 4, 5, 6, 10]"
      ]
     },
     "execution_count": 37,
     "metadata": {},
     "output_type": "execute_result"
    }
   ],
   "source": [
    "l1"
   ]
  },
  {
   "cell_type": "code",
   "execution_count": 38,
   "id": "08624666",
   "metadata": {},
   "outputs": [],
   "source": [
    "l1.append([23,25])"
   ]
  },
  {
   "cell_type": "code",
   "execution_count": 39,
   "id": "c8176f28",
   "metadata": {},
   "outputs": [
    {
     "data": {
      "text/plain": [
       "[2, 3, 4, 5, 6, 10, [23, 25]]"
      ]
     },
     "execution_count": 39,
     "metadata": {},
     "output_type": "execute_result"
    }
   ],
   "source": [
    "l1"
   ]
  },
  {
   "cell_type": "code",
   "execution_count": 40,
   "id": "12419809",
   "metadata": {},
   "outputs": [],
   "source": [
    "l2=[76,24,75]"
   ]
  },
  {
   "cell_type": "code",
   "execution_count": 41,
   "id": "5bac479a",
   "metadata": {},
   "outputs": [],
   "source": [
    "l1.extend(l2)"
   ]
  },
  {
   "cell_type": "code",
   "execution_count": 42,
   "id": "63e7bfc6",
   "metadata": {},
   "outputs": [
    {
     "data": {
      "text/plain": [
       "[2, 3, 4, 5, 6, 10, [23, 25], 76, 24, 75]"
      ]
     },
     "execution_count": 42,
     "metadata": {},
     "output_type": "execute_result"
    }
   ],
   "source": [
    "l1"
   ]
  },
  {
   "cell_type": "code",
   "execution_count": 43,
   "id": "eea9e073",
   "metadata": {},
   "outputs": [],
   "source": [
    "l1.insert(1,45)"
   ]
  },
  {
   "cell_type": "code",
   "execution_count": 44,
   "id": "f24a463d",
   "metadata": {},
   "outputs": [
    {
     "data": {
      "text/plain": [
       "[2, 45, 3, 4, 5, 6, 10, [23, 25], 76, 24, 75]"
      ]
     },
     "execution_count": 44,
     "metadata": {},
     "output_type": "execute_result"
    }
   ],
   "source": [
    "l1"
   ]
  },
  {
   "cell_type": "code",
   "execution_count": 45,
   "id": "16e8ed18",
   "metadata": {},
   "outputs": [
    {
     "data": {
      "text/plain": [
       "75"
      ]
     },
     "execution_count": 45,
     "metadata": {},
     "output_type": "execute_result"
    }
   ],
   "source": [
    "l1.pop()"
   ]
  },
  {
   "cell_type": "code",
   "execution_count": 46,
   "id": "16d4cd22",
   "metadata": {},
   "outputs": [
    {
     "data": {
      "text/plain": [
       "[2, 45, 3, 4, 5, 6, 10, [23, 25], 76, 24]"
      ]
     },
     "execution_count": 46,
     "metadata": {},
     "output_type": "execute_result"
    }
   ],
   "source": [
    "l1"
   ]
  },
  {
   "cell_type": "code",
   "execution_count": 47,
   "id": "fec6c64b",
   "metadata": {},
   "outputs": [
    {
     "data": {
      "text/plain": [
       "2"
      ]
     },
     "execution_count": 47,
     "metadata": {},
     "output_type": "execute_result"
    }
   ],
   "source": [
    "l1.pop(0)"
   ]
  },
  {
   "cell_type": "code",
   "execution_count": 48,
   "id": "6f3a4f10",
   "metadata": {},
   "outputs": [
    {
     "data": {
      "text/plain": [
       "[45, 3, 4, 5, 6, 10, [23, 25], 76, 24]"
      ]
     },
     "execution_count": 48,
     "metadata": {},
     "output_type": "execute_result"
    }
   ],
   "source": [
    "l1"
   ]
  },
  {
   "cell_type": "code",
   "execution_count": 49,
   "id": "1df3f980",
   "metadata": {},
   "outputs": [],
   "source": [
    "l1.remove(45)"
   ]
  },
  {
   "cell_type": "code",
   "execution_count": 50,
   "id": "e8855b14",
   "metadata": {},
   "outputs": [
    {
     "data": {
      "text/plain": [
       "[3, 4, 5, 6, 10, [23, 25], 76, 24]"
      ]
     },
     "execution_count": 50,
     "metadata": {},
     "output_type": "execute_result"
    }
   ],
   "source": [
    "l1"
   ]
  },
  {
   "cell_type": "code",
   "execution_count": 51,
   "id": "acb4d8ad",
   "metadata": {},
   "outputs": [
    {
     "data": {
      "text/plain": [
       "1"
      ]
     },
     "execution_count": 51,
     "metadata": {},
     "output_type": "execute_result"
    }
   ],
   "source": [
    "l1.count(5)"
   ]
  },
  {
   "cell_type": "code",
   "execution_count": 52,
   "id": "eca662fa",
   "metadata": {},
   "outputs": [
    {
     "data": {
      "text/plain": [
       "2"
      ]
     },
     "execution_count": 52,
     "metadata": {},
     "output_type": "execute_result"
    }
   ],
   "source": [
    "l1.index(5)"
   ]
  },
  {
   "cell_type": "code",
   "execution_count": 53,
   "id": "a45d23e7",
   "metadata": {},
   "outputs": [],
   "source": [
    "l1.reverse()"
   ]
  },
  {
   "cell_type": "code",
   "execution_count": 54,
   "id": "65fcc108",
   "metadata": {},
   "outputs": [
    {
     "data": {
      "text/plain": [
       "[24, 76, [23, 25], 10, 6, 5, 4, 3]"
      ]
     },
     "execution_count": 54,
     "metadata": {},
     "output_type": "execute_result"
    }
   ],
   "source": [
    "l1"
   ]
  },
  {
   "cell_type": "code",
   "execution_count": 55,
   "id": "aae1c29a",
   "metadata": {},
   "outputs": [
    {
     "data": {
      "text/plain": [
       "[23, 25]"
      ]
     },
     "execution_count": 55,
     "metadata": {},
     "output_type": "execute_result"
    }
   ],
   "source": [
    "l1.pop(2)"
   ]
  },
  {
   "cell_type": "code",
   "execution_count": 56,
   "id": "d4d7aa6a",
   "metadata": {},
   "outputs": [
    {
     "data": {
      "text/plain": [
       "10"
      ]
     },
     "execution_count": 56,
     "metadata": {},
     "output_type": "execute_result"
    }
   ],
   "source": [
    "l1.pop(2)"
   ]
  },
  {
   "cell_type": "code",
   "execution_count": 57,
   "id": "135854c9",
   "metadata": {},
   "outputs": [],
   "source": [
    "l1.sort()"
   ]
  },
  {
   "cell_type": "code",
   "execution_count": 58,
   "id": "302690da",
   "metadata": {},
   "outputs": [
    {
     "data": {
      "text/plain": [
       "[3, 4, 5, 6, 24, 76]"
      ]
     },
     "execution_count": 58,
     "metadata": {},
     "output_type": "execute_result"
    }
   ],
   "source": [
    "l1"
   ]
  },
  {
   "cell_type": "code",
   "execution_count": 60,
   "id": "d489aa85",
   "metadata": {},
   "outputs": [],
   "source": [
    "l1.sort(reverse=False)"
   ]
  },
  {
   "cell_type": "code",
   "execution_count": 61,
   "id": "1962f949",
   "metadata": {},
   "outputs": [
    {
     "data": {
      "text/plain": [
       "[3, 4, 5, 6, 24, 76]"
      ]
     },
     "execution_count": 61,
     "metadata": {},
     "output_type": "execute_result"
    }
   ],
   "source": [
    "l1"
   ]
  },
  {
   "cell_type": "code",
   "execution_count": 62,
   "id": "e19b7768",
   "metadata": {},
   "outputs": [
    {
     "data": {
      "text/plain": [
       "6"
      ]
     },
     "execution_count": 62,
     "metadata": {},
     "output_type": "execute_result"
    }
   ],
   "source": [
    "len(l1)"
   ]
  },
  {
   "cell_type": "code",
   "execution_count": 63,
   "id": "eefbcde3",
   "metadata": {},
   "outputs": [],
   "source": [
    "l1.remove(76)"
   ]
  },
  {
   "cell_type": "code",
   "execution_count": 64,
   "id": "765f0cc7",
   "metadata": {},
   "outputs": [
    {
     "data": {
      "text/plain": [
       "5"
      ]
     },
     "execution_count": 64,
     "metadata": {},
     "output_type": "execute_result"
    }
   ],
   "source": [
    "len(l1)"
   ]
  },
  {
   "cell_type": "markdown",
   "id": "149532c5",
   "metadata": {},
   "source": [
    "# SPLIT FUNCTION"
   ]
  },
  {
   "cell_type": "code",
   "execution_count": 41,
   "id": "e7504c81",
   "metadata": {},
   "outputs": [],
   "source": [
    "#USED IN PANDAS AND NUMPY"
   ]
  },
  {
   "cell_type": "code",
   "execution_count": 42,
   "id": "75163d53",
   "metadata": {},
   "outputs": [],
   "source": [
    "#used to remove white spaces"
   ]
  },
  {
   "cell_type": "code",
   "execution_count": 43,
   "id": "482870d5",
   "metadata": {},
   "outputs": [],
   "source": [
    "a='    i love anime    '"
   ]
  },
  {
   "cell_type": "code",
   "execution_count": 44,
   "id": "c13536dc",
   "metadata": {},
   "outputs": [
    {
     "data": {
      "text/plain": [
       "'    i love anime    '"
      ]
     },
     "execution_count": 44,
     "metadata": {},
     "output_type": "execute_result"
    }
   ],
   "source": [
    "a"
   ]
  },
  {
   "cell_type": "code",
   "execution_count": 40,
   "id": "c5278a4e",
   "metadata": {},
   "outputs": [
    {
     "data": {
      "text/plain": [
       "['i', 'love', 'anime']"
      ]
     },
     "execution_count": 40,
     "metadata": {},
     "output_type": "execute_result"
    }
   ],
   "source": [
    "a.split()"
   ]
  },
  {
   "cell_type": "code",
   "execution_count": 46,
   "id": "785d95ee",
   "metadata": {},
   "outputs": [
    {
     "data": {
      "text/plain": [
       "['', '', '', '', 'i', 'love', 'anime', '', '', '', '']"
      ]
     },
     "execution_count": 46,
     "metadata": {},
     "output_type": "execute_result"
    }
   ],
   "source": [
    "a.split(\" \")"
   ]
  },
  {
   "cell_type": "code",
   "execution_count": 47,
   "id": "9d5c7812",
   "metadata": {},
   "outputs": [
    {
     "data": {
      "text/plain": [
       "['    i love anime    ']"
      ]
     },
     "execution_count": 47,
     "metadata": {},
     "output_type": "execute_result"
    }
   ],
   "source": [
    "a.split(\",\")"
   ]
  },
  {
   "cell_type": "markdown",
   "id": "a40fcebf",
   "metadata": {},
   "source": [
    "# IN AND NOT IN OPERATOR"
   ]
  },
  {
   "cell_type": "code",
   "execution_count": 48,
   "id": "49f2f60f",
   "metadata": {},
   "outputs": [
    {
     "data": {
      "text/plain": [
       "'    i love anime    '"
      ]
     },
     "execution_count": 48,
     "metadata": {},
     "output_type": "execute_result"
    }
   ],
   "source": [
    "a"
   ]
  },
  {
   "cell_type": "code",
   "execution_count": 49,
   "id": "6d256b20",
   "metadata": {},
   "outputs": [
    {
     "data": {
      "text/plain": [
       "True"
      ]
     },
     "execution_count": 49,
     "metadata": {},
     "output_type": "execute_result"
    }
   ],
   "source": [
    "'a'in a"
   ]
  },
  {
   "cell_type": "code",
   "execution_count": 50,
   "id": "2f15206f",
   "metadata": {},
   "outputs": [
    {
     "data": {
      "text/plain": [
       "False"
      ]
     },
     "execution_count": 50,
     "metadata": {},
     "output_type": "execute_result"
    }
   ],
   "source": [
    "'z'in a"
   ]
  },
  {
   "cell_type": "code",
   "execution_count": 51,
   "id": "294f8775",
   "metadata": {},
   "outputs": [
    {
     "data": {
      "text/plain": [
       "True"
      ]
     },
     "execution_count": 51,
     "metadata": {},
     "output_type": "execute_result"
    }
   ],
   "source": [
    "'z'not in a"
   ]
  },
  {
   "cell_type": "code",
   "execution_count": 52,
   "id": "4549e040",
   "metadata": {},
   "outputs": [
    {
     "data": {
      "text/plain": [
       "False"
      ]
     },
     "execution_count": 52,
     "metadata": {},
     "output_type": "execute_result"
    }
   ],
   "source": [
    "'anime'not in a"
   ]
  },
  {
   "cell_type": "code",
   "execution_count": 53,
   "id": "5fb37d12",
   "metadata": {},
   "outputs": [
    {
     "data": {
      "text/plain": [
       "True"
      ]
     },
     "execution_count": 53,
     "metadata": {},
     "output_type": "execute_result"
    }
   ],
   "source": [
    "'anime'in a"
   ]
  },
  {
   "cell_type": "markdown",
   "id": "4a26a5b7",
   "metadata": {},
   "source": [
    "# using back slash"
   ]
  },
  {
   "cell_type": "code",
   "execution_count": 54,
   "id": "74579eef",
   "metadata": {},
   "outputs": [
    {
     "ename": "SyntaxError",
     "evalue": "invalid syntax (2293125897.py, line 1)",
     "output_type": "error",
     "traceback": [
      "\u001b[1;36m  Cell \u001b[1;32mIn[54], line 1\u001b[1;36m\u001b[0m\n\u001b[1;33m    a=\"im a livind \"legend\" in anime\"\u001b[0m\n\u001b[1;37m                    ^\u001b[0m\n\u001b[1;31mSyntaxError\u001b[0m\u001b[1;31m:\u001b[0m invalid syntax\n"
     ]
    }
   ],
   "source": [
    "a=\"im a livind \"legend\" in anime\""
   ]
  },
  {
   "cell_type": "code",
   "execution_count": 55,
   "id": "b5b9cce2",
   "metadata": {},
   "outputs": [],
   "source": [
    "a=\"im a livind \\\"legend\\\" in anime\""
   ]
  },
  {
   "cell_type": "code",
   "execution_count": 56,
   "id": "ca00ff7b",
   "metadata": {},
   "outputs": [
    {
     "data": {
      "text/plain": [
       "'im a livind \"legend\" in anime'"
      ]
     },
     "execution_count": 56,
     "metadata": {},
     "output_type": "execute_result"
    }
   ],
   "source": [
    "a"
   ]
  },
  {
   "cell_type": "code",
   "execution_count": 57,
   "id": "5c6c725a",
   "metadata": {},
   "outputs": [],
   "source": [
    "# \\t"
   ]
  },
  {
   "cell_type": "code",
   "execution_count": 58,
   "id": "0aa04465",
   "metadata": {},
   "outputs": [],
   "source": [
    "x=\"hello\\tworld\""
   ]
  },
  {
   "cell_type": "code",
   "execution_count": 59,
   "id": "539d25b6",
   "metadata": {},
   "outputs": [
    {
     "data": {
      "text/plain": [
       "'hello\\tworld'"
      ]
     },
     "execution_count": 59,
     "metadata": {},
     "output_type": "execute_result"
    }
   ],
   "source": [
    "x"
   ]
  },
  {
   "cell_type": "code",
   "execution_count": 60,
   "id": "8d4db6dc",
   "metadata": {},
   "outputs": [
    {
     "name": "stdout",
     "output_type": "stream",
     "text": [
      "hello\tworld\n"
     ]
    }
   ],
   "source": [
    "print(x)"
   ]
  },
  {
   "cell_type": "code",
   "execution_count": 61,
   "id": "9c7da18d",
   "metadata": {},
   "outputs": [],
   "source": [
    "# \\n"
   ]
  },
  {
   "cell_type": "code",
   "execution_count": 63,
   "id": "e5db91a7",
   "metadata": {},
   "outputs": [],
   "source": [
    "x=\"hello\\nworld\""
   ]
  },
  {
   "cell_type": "code",
   "execution_count": 64,
   "id": "7e65cb28",
   "metadata": {},
   "outputs": [
    {
     "data": {
      "text/plain": [
       "'hello\\nworld'"
      ]
     },
     "execution_count": 64,
     "metadata": {},
     "output_type": "execute_result"
    }
   ],
   "source": [
    "x"
   ]
  },
  {
   "cell_type": "code",
   "execution_count": 65,
   "id": "19bd6ed7",
   "metadata": {},
   "outputs": [
    {
     "name": "stdout",
     "output_type": "stream",
     "text": [
      "hello\n",
      "world\n"
     ]
    }
   ],
   "source": [
    "print(x)"
   ]
  },
  {
   "cell_type": "markdown",
   "id": "991dbb21",
   "metadata": {},
   "source": [
    "# FUNCTIONS"
   ]
  },
  {
   "cell_type": "code",
   "execution_count": 72,
   "id": "dfd9bb19",
   "metadata": {},
   "outputs": [],
   "source": [
    "\n",
    "def cube(x):\n",
    "    y=x**3\n",
    "    return(y)"
   ]
  },
  {
   "cell_type": "code",
   "execution_count": 73,
   "id": "09fdc190",
   "metadata": {},
   "outputs": [
    {
     "data": {
      "text/plain": [
       "729"
      ]
     },
     "execution_count": 73,
     "metadata": {},
     "output_type": "execute_result"
    }
   ],
   "source": [
    "cube(9)"
   ]
  },
  {
   "cell_type": "code",
   "execution_count": 74,
   "id": "74dfaa79",
   "metadata": {},
   "outputs": [
    {
     "data": {
      "text/plain": [
       "-91125"
      ]
     },
     "execution_count": 74,
     "metadata": {},
     "output_type": "execute_result"
    }
   ],
   "source": [
    "cube(-45)"
   ]
  },
  {
   "cell_type": "code",
   "execution_count": 77,
   "id": "5d6dcb02",
   "metadata": {},
   "outputs": [],
   "source": [
    "def addition(x,y,z):\n",
    "    add=x+y+z\n",
    "    print(add)"
   ]
  },
  {
   "cell_type": "code",
   "execution_count": 79,
   "id": "1556fe26",
   "metadata": {},
   "outputs": [
    {
     "name": "stdout",
     "output_type": "stream",
     "text": [
      "68\n"
     ]
    }
   ],
   "source": [
    "addition(4,25,39)"
   ]
  },
  {
   "cell_type": "code",
   "execution_count": 88,
   "id": "e61a4495",
   "metadata": {},
   "outputs": [],
   "source": [
    "def addmul(x,y,z):\n",
    "    add=x+y+z\n",
    "    mul=x*y*z\n",
    "    add=\"addition is\",str(add)\n",
    "    mul=\"multiplication is\",str(mul)\n",
    "    return([add,mul])"
   ]
  },
  {
   "cell_type": "code",
   "execution_count": 89,
   "id": "1f0b1ab9",
   "metadata": {},
   "outputs": [
    {
     "data": {
      "text/plain": [
       "[('addition is', '12'), ('multiplication is', '60')]"
      ]
     },
     "execution_count": 89,
     "metadata": {},
     "output_type": "execute_result"
    }
   ],
   "source": [
    "addmul(3,4,5)"
   ]
  },
  {
   "cell_type": "code",
   "execution_count": 90,
   "id": "a9092929",
   "metadata": {},
   "outputs": [
    {
     "data": {
      "text/plain": [
       "function"
      ]
     },
     "execution_count": 90,
     "metadata": {},
     "output_type": "execute_result"
    }
   ],
   "source": [
    "type(addmul)"
   ]
  },
  {
   "cell_type": "code",
   "execution_count": 91,
   "id": "16424869",
   "metadata": {},
   "outputs": [
    {
     "data": {
      "text/plain": [
       "list"
      ]
     },
     "execution_count": 91,
     "metadata": {},
     "output_type": "execute_result"
    }
   ],
   "source": [
    "type(addmul(6,4,6))"
   ]
  },
  {
   "cell_type": "markdown",
   "id": "2fb1ed92",
   "metadata": {},
   "source": [
    "# factorial"
   ]
  },
  {
   "cell_type": "code",
   "execution_count": 94,
   "id": "c5a89294",
   "metadata": {},
   "outputs": [],
   "source": [
    "def factorial(x):\n",
    "    fact=1\n",
    "    for i in range(1,x+1):\n",
    "        fact*=i\n",
    "    return(fact)"
   ]
  },
  {
   "cell_type": "code",
   "execution_count": 95,
   "id": "54e5b23a",
   "metadata": {},
   "outputs": [
    {
     "data": {
      "text/plain": [
       "362880"
      ]
     },
     "execution_count": 95,
     "metadata": {},
     "output_type": "execute_result"
    }
   ],
   "source": [
    "factorial(9)"
   ]
  },
  {
   "cell_type": "markdown",
   "id": "e3d17bc5",
   "metadata": {},
   "source": [
    "# RECURSION"
   ]
  },
  {
   "cell_type": "code",
   "execution_count": 96,
   "id": "6aef480f",
   "metadata": {},
   "outputs": [],
   "source": [
    "def factorial(x):\n",
    "    if x==1:\n",
    "        return 1\n",
    "    else:\n",
    "        return x*factorial(x-1)"
   ]
  },
  {
   "cell_type": "code",
   "execution_count": 97,
   "id": "242def20",
   "metadata": {},
   "outputs": [
    {
     "data": {
      "text/plain": [
       "720"
      ]
     },
     "execution_count": 97,
     "metadata": {},
     "output_type": "execute_result"
    }
   ],
   "source": [
    "factorial(6)"
   ]
  },
  {
   "cell_type": "code",
   "execution_count": 99,
   "id": "d4aa4da2",
   "metadata": {},
   "outputs": [],
   "source": [
    "#fibonacci series\n",
    "#0 1 1 2 3 5 8 13 ..."
   ]
  },
  {
   "cell_type": "code",
   "execution_count": 106,
   "id": "05bb7107",
   "metadata": {},
   "outputs": [],
   "source": [
    "def fibonacci(x):\n",
    "    if x==1:\n",
    "        return 0\n",
    "    elif x==2:\n",
    "        return 1\n",
    "    else:\n",
    "        return (fibonacci(x-1)+fibonacci(x-2))"
   ]
  },
  {
   "cell_type": "code",
   "execution_count": 109,
   "id": "a57232c7",
   "metadata": {},
   "outputs": [
    {
     "data": {
      "text/plain": [
       "8"
      ]
     },
     "execution_count": 109,
     "metadata": {},
     "output_type": "execute_result"
    }
   ],
   "source": [
    "fibonacci(7)"
   ]
  },
  {
   "cell_type": "code",
   "execution_count": 110,
   "id": "27e48b32",
   "metadata": {},
   "outputs": [
    {
     "name": "stdout",
     "output_type": "stream",
     "text": [
      "enter number for fibonacci series:5\n"
     ]
    }
   ],
   "source": [
    "x=int(input(\"enter number for fibonacci series:\"))\n",
    "l1=[]\n",
    "for i in range(1,x+1):\n",
    "    l1.append(fibonacci(i))"
   ]
  },
  {
   "cell_type": "code",
   "execution_count": 113,
   "id": "f420aa84",
   "metadata": {},
   "outputs": [
    {
     "name": "stdout",
     "output_type": "stream",
     "text": [
      " 0 1 1 2 3\n"
     ]
    }
   ],
   "source": [
    "str1=\"\"\n",
    "for i in l1:\n",
    "    str1=str1+\" \"+str(i)\n",
    "print(str1)"
   ]
  },
  {
   "cell_type": "markdown",
   "id": "539b60d6",
   "metadata": {},
   "source": [
    "# LAMBDA FUNCTION"
   ]
  },
  {
   "cell_type": "code",
   "execution_count": 1,
   "id": "3822be51",
   "metadata": {},
   "outputs": [],
   "source": [
    "def square(x):\n",
    "    return(x*x)"
   ]
  },
  {
   "cell_type": "code",
   "execution_count": 2,
   "id": "6e4fd13b",
   "metadata": {},
   "outputs": [
    {
     "data": {
      "text/plain": [
       "49"
      ]
     },
     "execution_count": 2,
     "metadata": {},
     "output_type": "execute_result"
    }
   ],
   "source": [
    "square(7)"
   ]
  },
  {
   "cell_type": "code",
   "execution_count": 5,
   "id": "3e77aad0",
   "metadata": {},
   "outputs": [],
   "source": [
    "square_lambda=lambda x:x*x"
   ]
  },
  {
   "cell_type": "code",
   "execution_count": 6,
   "id": "d0eb74d0",
   "metadata": {},
   "outputs": [
    {
     "data": {
      "text/plain": [
       "900"
      ]
     },
     "execution_count": 6,
     "metadata": {},
     "output_type": "execute_result"
    }
   ],
   "source": [
    "square_lambda(30)"
   ]
  },
  {
   "cell_type": "code",
   "execution_count": 7,
   "id": "34343b25",
   "metadata": {},
   "outputs": [],
   "source": [
    "cube=lambda x:x**3"
   ]
  },
  {
   "cell_type": "code",
   "execution_count": 8,
   "id": "8b9d5e2b",
   "metadata": {},
   "outputs": [
    {
     "data": {
      "text/plain": [
       "729"
      ]
     },
     "execution_count": 8,
     "metadata": {},
     "output_type": "execute_result"
    }
   ],
   "source": [
    "cube(9)"
   ]
  },
  {
   "cell_type": "code",
   "execution_count": 10,
   "id": "4eb6a8b1",
   "metadata": {},
   "outputs": [],
   "source": [
    "addition=lambda x,y:x+y"
   ]
  },
  {
   "cell_type": "code",
   "execution_count": 11,
   "id": "5ef7d11e",
   "metadata": {},
   "outputs": [
    {
     "data": {
      "text/plain": [
       "121"
      ]
     },
     "execution_count": 11,
     "metadata": {},
     "output_type": "execute_result"
    }
   ],
   "source": [
    "addition(67,54)"
   ]
  },
  {
   "cell_type": "code",
   "execution_count": 12,
   "id": "20dc22a1",
   "metadata": {},
   "outputs": [],
   "source": [
    "mul=lambda x,y: x*y"
   ]
  },
  {
   "cell_type": "code",
   "execution_count": 13,
   "id": "9624cd32",
   "metadata": {},
   "outputs": [
    {
     "data": {
      "text/plain": [
       "63"
      ]
     },
     "execution_count": 13,
     "metadata": {},
     "output_type": "execute_result"
    }
   ],
   "source": [
    "mul(9,7)"
   ]
  },
  {
   "cell_type": "code",
   "execution_count": 14,
   "id": "e29293b2",
   "metadata": {},
   "outputs": [],
   "source": [
    "larger=lambda x:\"greater than 15\"if x>15 else \"lesser\""
   ]
  },
  {
   "cell_type": "code",
   "execution_count": 15,
   "id": "1d76bed0",
   "metadata": {},
   "outputs": [
    {
     "data": {
      "text/plain": [
       "'greater than 15'"
      ]
     },
     "execution_count": 15,
     "metadata": {},
     "output_type": "execute_result"
    }
   ],
   "source": [
    "larger(45)"
   ]
  },
  {
   "cell_type": "code",
   "execution_count": 16,
   "id": "f6c6e57e",
   "metadata": {},
   "outputs": [
    {
     "data": {
      "text/plain": [
       "'lesser'"
      ]
     },
     "execution_count": 16,
     "metadata": {},
     "output_type": "execute_result"
    }
   ],
   "source": [
    "larger(7)"
   ]
  },
  {
   "cell_type": "code",
   "execution_count": 19,
   "id": "1cf5b54c",
   "metadata": {},
   "outputs": [],
   "source": [
    "sumgreaterthan10=lambda x,y: True if x+y>10 else False"
   ]
  },
  {
   "cell_type": "code",
   "execution_count": 20,
   "id": "6527d816",
   "metadata": {},
   "outputs": [
    {
     "data": {
      "text/plain": [
       "True"
      ]
     },
     "execution_count": 20,
     "metadata": {},
     "output_type": "execute_result"
    }
   ],
   "source": [
    "sumgreaterthan10(9,7)"
   ]
  },
  {
   "cell_type": "code",
   "execution_count": 21,
   "id": "b1943372",
   "metadata": {},
   "outputs": [
    {
     "data": {
      "text/plain": [
       "False"
      ]
     },
     "execution_count": 21,
     "metadata": {},
     "output_type": "execute_result"
    }
   ],
   "source": [
    "sumgreaterthan10(6,1)"
   ]
  },
  {
   "cell_type": "code",
   "execution_count": 25,
   "id": "a05f33f4",
   "metadata": {},
   "outputs": [],
   "source": [
    "odd=lambda x: \"odd\" if x%2==1 else \"even\" "
   ]
  },
  {
   "cell_type": "code",
   "execution_count": 26,
   "id": "b7db0862",
   "metadata": {},
   "outputs": [
    {
     "data": {
      "text/plain": [
       "'odd'"
      ]
     },
     "execution_count": 26,
     "metadata": {},
     "output_type": "execute_result"
    }
   ],
   "source": [
    "odd(9)"
   ]
  },
  {
   "cell_type": "code",
   "execution_count": 27,
   "id": "f1e8c95a",
   "metadata": {},
   "outputs": [
    {
     "data": {
      "text/plain": [
       "'even'"
      ]
     },
     "execution_count": 27,
     "metadata": {},
     "output_type": "execute_result"
    }
   ],
   "source": [
    "odd(8)"
   ]
  },
  {
   "cell_type": "markdown",
   "id": "90d94da9",
   "metadata": {},
   "source": [
    "# MAP FUNCTION"
   ]
  },
  {
   "cell_type": "code",
   "execution_count": 28,
   "id": "5496335c",
   "metadata": {},
   "outputs": [],
   "source": [
    "x=[1,2,3,4,5,6]"
   ]
  },
  {
   "cell_type": "code",
   "execution_count": 30,
   "id": "5a78d890",
   "metadata": {},
   "outputs": [],
   "source": [
    "def square(x):\n",
    "    return(x**2)"
   ]
  },
  {
   "cell_type": "code",
   "execution_count": 31,
   "id": "7a1c6972",
   "metadata": {},
   "outputs": [],
   "source": [
    "y=map(square,x)"
   ]
  },
  {
   "cell_type": "code",
   "execution_count": 32,
   "id": "5e75d6bb",
   "metadata": {},
   "outputs": [
    {
     "data": {
      "text/plain": [
       "<map at 0x266af6a9f90>"
      ]
     },
     "execution_count": 32,
     "metadata": {},
     "output_type": "execute_result"
    }
   ],
   "source": [
    "y"
   ]
  },
  {
   "cell_type": "code",
   "execution_count": 33,
   "id": "135f5e6a",
   "metadata": {},
   "outputs": [
    {
     "data": {
      "text/plain": [
       "[1, 4, 9, 16, 25, 36]"
      ]
     },
     "execution_count": 33,
     "metadata": {},
     "output_type": "execute_result"
    }
   ],
   "source": [
    "list(y)"
   ]
  },
  {
   "cell_type": "code",
   "execution_count": 34,
   "id": "16e219f5",
   "metadata": {},
   "outputs": [],
   "source": [
    "a=(10,20,30,40,50)"
   ]
  },
  {
   "cell_type": "code",
   "execution_count": 43,
   "id": "f813ee13",
   "metadata": {},
   "outputs": [],
   "source": [
    "def add(x):\n",
    "    return (x+100)"
   ]
  },
  {
   "cell_type": "code",
   "execution_count": 44,
   "id": "7c920ad6",
   "metadata": {},
   "outputs": [],
   "source": [
    "b=map(add,a)"
   ]
  },
  {
   "cell_type": "code",
   "execution_count": 45,
   "id": "8b935bfc",
   "metadata": {},
   "outputs": [
    {
     "data": {
      "text/plain": [
       "<map at 0x266af8c4730>"
      ]
     },
     "execution_count": 45,
     "metadata": {},
     "output_type": "execute_result"
    }
   ],
   "source": [
    "b"
   ]
  },
  {
   "cell_type": "code",
   "execution_count": 46,
   "id": "3f150341",
   "metadata": {},
   "outputs": [
    {
     "data": {
      "text/plain": [
       "(110, 120, 130, 140, 150)"
      ]
     },
     "execution_count": 46,
     "metadata": {},
     "output_type": "execute_result"
    }
   ],
   "source": [
    "tuple(b)"
   ]
  },
  {
   "cell_type": "code",
   "execution_count": 47,
   "id": "e934fc32",
   "metadata": {},
   "outputs": [],
   "source": [
    "x=[1,2,3,4,5,6]"
   ]
  },
  {
   "cell_type": "code",
   "execution_count": 48,
   "id": "fd5aa18d",
   "metadata": {},
   "outputs": [],
   "source": [
    "y=[10,20,30,40,50]"
   ]
  },
  {
   "cell_type": "code",
   "execution_count": 49,
   "id": "7ffeb46d",
   "metadata": {},
   "outputs": [],
   "source": [
    "def add(x,y):\n",
    "    return(x+y)"
   ]
  },
  {
   "cell_type": "code",
   "execution_count": 50,
   "id": "5f541c3d",
   "metadata": {},
   "outputs": [],
   "source": [
    "z=map(add,x,y)"
   ]
  },
  {
   "cell_type": "code",
   "execution_count": 51,
   "id": "6717485b",
   "metadata": {},
   "outputs": [
    {
     "data": {
      "text/plain": [
       "<map at 0x266af8c4c70>"
      ]
     },
     "execution_count": 51,
     "metadata": {},
     "output_type": "execute_result"
    }
   ],
   "source": [
    "z"
   ]
  },
  {
   "cell_type": "code",
   "execution_count": 52,
   "id": "555a5568",
   "metadata": {},
   "outputs": [
    {
     "data": {
      "text/plain": [
       "[11, 22, 33, 44, 55]"
      ]
     },
     "execution_count": 52,
     "metadata": {},
     "output_type": "execute_result"
    }
   ],
   "source": [
    "list(z)"
   ]
  },
  {
   "cell_type": "markdown",
   "id": "c42ab67c",
   "metadata": {},
   "source": [
    "# EXCEPTION HANDLING"
   ]
  },
  {
   "cell_type": "code",
   "execution_count": 60,
   "id": "6e1cbe00",
   "metadata": {},
   "outputs": [
    {
     "name": "stdout",
     "output_type": "stream",
     "text": [
      "12\n"
     ]
    }
   ],
   "source": [
    "try:\n",
    "    print(r)\n",
    "except:\n",
    "    print(\"please defint x\")"
   ]
  },
  {
   "cell_type": "code",
   "execution_count": 59,
   "id": "4bfa68ba",
   "metadata": {},
   "outputs": [],
   "source": [
    "r=12"
   ]
  },
  {
   "cell_type": "code",
   "execution_count": 62,
   "id": "2a482305",
   "metadata": {},
   "outputs": [
    {
     "ename": "ValueError",
     "evalue": "invalid literal for int() with base 10: 'hello'",
     "output_type": "error",
     "traceback": [
      "\u001b[1;31m---------------------------------------------------------------------------\u001b[0m",
      "\u001b[1;31mValueError\u001b[0m                                Traceback (most recent call last)",
      "Cell \u001b[1;32mIn[62], line 2\u001b[0m\n\u001b[0;32m      1\u001b[0m x\u001b[38;5;241m=\u001b[39m\u001b[38;5;124m'\u001b[39m\u001b[38;5;124mhello\u001b[39m\u001b[38;5;124m'\u001b[39m\n\u001b[1;32m----> 2\u001b[0m y\u001b[38;5;241m=\u001b[39m\u001b[38;5;28;43mint\u001b[39;49m\u001b[43m(\u001b[49m\u001b[43mx\u001b[49m\u001b[43m)\u001b[49m\n\u001b[0;32m      3\u001b[0m \u001b[38;5;28mprint\u001b[39m(y)\n",
      "\u001b[1;31mValueError\u001b[0m: invalid literal for int() with base 10: 'hello'"
     ]
    }
   ],
   "source": [
    "x='hello'\n",
    "y=int(x)\n",
    "print(y)"
   ]
  },
  {
   "cell_type": "code",
   "execution_count": 67,
   "id": "65f0ad24",
   "metadata": {},
   "outputs": [
    {
     "name": "stdout",
     "output_type": "stream",
     "text": [
      "12.0\n"
     ]
    }
   ],
   "source": [
    "x='12'\n",
    "try:\n",
    "    y=float(x)\n",
    "    print(y)\n",
    "except:\n",
    "    print('enter number')"
   ]
  },
  {
   "cell_type": "code",
   "execution_count": null,
   "id": "69de3dd8",
   "metadata": {},
   "outputs": [],
   "source": [
    "x='hi'\n",
    "try:\n",
    "    y=float(x)\n",
    "    print(y)\n",
    "except:\n",
    "    print('enter number')\n",
    "finally:\n",
    "    print('finished')"
   ]
  },
  {
   "cell_type": "code",
   "execution_count": 5,
   "id": "1f4cefcb",
   "metadata": {},
   "outputs": [
    {
     "name": "stdout",
     "output_type": "stream",
     "text": [
      "enter age:g\n",
      "enter number\n",
      "enter age:s\n",
      "enter number\n",
      "enter age:2\n",
      "27\n",
      "finished\n",
      "finished\n",
      "finished\n"
     ]
    }
   ],
   "source": [
    "def age():\n",
    "    try:\n",
    "        x=input('enter age:')\n",
    "        y=int(x)+25\n",
    "        print(y)\n",
    "    except:\n",
    "        print(\"enter number\")\n",
    "        age()\n",
    "    finally:\n",
    "        print(\"finished\")\n",
    "age()"
   ]
  },
  {
   "cell_type": "code",
   "execution_count": 6,
   "id": "30fef12a",
   "metadata": {},
   "outputs": [
    {
     "name": "stdout",
     "output_type": "stream",
     "text": [
      "define n\n"
     ]
    }
   ],
   "source": [
    "try:\n",
    "    print(n)\n",
    "except NameError:\n",
    "    print('define n')"
   ]
  },
  {
   "cell_type": "code",
   "execution_count": 7,
   "id": "c2c30d18",
   "metadata": {},
   "outputs": [
    {
     "ename": "Exception",
     "evalue": "number entered not in list",
     "output_type": "error",
     "traceback": [
      "\u001b[1;31m---------------------------------------------------------------------------\u001b[0m",
      "\u001b[1;31mException\u001b[0m                                 Traceback (most recent call last)",
      "Cell \u001b[1;32mIn[7], line 4\u001b[0m\n\u001b[0;32m      2\u001b[0m x\u001b[38;5;241m=\u001b[39m\u001b[38;5;241m10\u001b[39m\n\u001b[0;32m      3\u001b[0m \u001b[38;5;28;01mif\u001b[39;00m x \u001b[38;5;129;01mnot\u001b[39;00m \u001b[38;5;129;01min\u001b[39;00m l1:\n\u001b[1;32m----> 4\u001b[0m     \u001b[38;5;28;01mraise\u001b[39;00m \u001b[38;5;167;01mException\u001b[39;00m(\u001b[38;5;124m'\u001b[39m\u001b[38;5;124mnumber entered not in list\u001b[39m\u001b[38;5;124m'\u001b[39m)\n\u001b[0;32m      5\u001b[0m li\u001b[38;5;241m.\u001b[39mindex(x)\n",
      "\u001b[1;31mException\u001b[0m: number entered not in list"
     ]
    }
   ],
   "source": [
    "l1=[1,2,3,4]\n",
    "x=10\n",
    "if x not in l1:\n",
    "    raise Exception('number entered not in list')\n",
    "l1.index(x)"
   ]
  },
  {
   "cell_type": "code",
   "execution_count": null,
   "id": "314267ab",
   "metadata": {},
   "outputs": [],
   "source": []
  }
 ],
 "metadata": {
  "kernelspec": {
   "display_name": "Python 3 (ipykernel)",
   "language": "python",
   "name": "python3"
  },
  "language_info": {
   "codemirror_mode": {
    "name": "ipython",
    "version": 3
   },
   "file_extension": ".py",
   "mimetype": "text/x-python",
   "name": "python",
   "nbconvert_exporter": "python",
   "pygments_lexer": "ipython3",
   "version": "3.11.3"
  }
 },
 "nbformat": 4,
 "nbformat_minor": 5
}
