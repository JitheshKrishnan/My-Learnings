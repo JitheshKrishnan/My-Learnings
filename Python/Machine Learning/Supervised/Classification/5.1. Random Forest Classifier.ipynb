{
 "cells": [
  {
   "cell_type": "code",
   "execution_count": null,
   "id": "1d94acc5",
   "metadata": {},
   "outputs": [],
   "source": [
    "import numpy as np\n",
    "import pandas as pd\n",
    "import seaborn as sns\n",
    "import matplotlib.pyplot as plt\n",
    "\n",
    "from sklearn.model_selection import train_test_split\n",
    "from sklearn.preprocessing import LabelEncoder\n",
    "from sklearn.preprocessing import StandardScaler\n",
    "from sklearn.ensemble import RandomForestClassifier\n",
    "from sklearn.metrics import accuracy_score\n",
    "from sklearn.metrics import precision_score\n",
    "from sklearn.metrics import recall_score\n",
    "from sklearn.metrics import f1_score\n",
    "from sklearn.metrics import confusion_matrix\n",
    "from sklearn.metrics import classification_report\n",
    "\n",
    "le = LabelEncoder()\n",
    "ss = StandardScaler()\n",
    "rfc = RandomForestClassifier(n_estimators = 50, criterion = 'entropy')\n",
    "\n",
    "df = pd.read_csv('adult_data.csv')\n",
    "df.columns = ['age', 'workclass', 'fnlwgt', 'education', 'education-num', 'marital-status', 'occupation', 'relationship', 'race', 'sex', 'capital-gain', 'capital-loss', 'hours-per-week', 'native-country', 'salary']\n",
    "for i in df.columns:\n",
    "    for j in range(len(df)):\n",
    "        if df[i][j] == ' ?':\n",
    "            df[i][j] = np.nan\n",
    "df.dropna(axis = 0, inplace = True)\n",
    "df.reset_index(drop = True, inplace = True)\n",
    "cat_cols = ['workclass', 'education', 'marital-status', 'occupation', 'relationship', 'race', 'sex', 'native-country', 'salary']\n",
    "for cols in cat_cols:\n",
    "    df[cols] = le.fit_transform(df[cols])\n",
    "x = df.drop('salary', axis = 1)\n",
    "y = df.salary\n",
    "x = ss.fit_transform(x)\n",
    "X_train, X_test, y_train, y_test = train_test_split(x, y, test_size = 0.3, random_state = 42)\n",
    "model = rfc.fit(X_train, y_train)\n",
    "y_pred = model.predict(X_test)\n",
    "print('\\nAccuracy score = ', accuracy_score(y_test, y_pred))\n",
    "print('\\nPrecision score = ', precision_score(y_test, y_pred))\n",
    "print('\\nRecall score = ', recall_score(y_test, y_pred))\n",
    "print('\\nf1 score = ', f1_score(y_test, y_pred))\n",
    "print('\\nConfusion matrix:\\n\\n', confusion_matrix(y_test, y_pred))\n",
    "print('\\nClassification report:\\n\\n', classification_report(y_test, y_pred))\n",
    "plt.figure(figsize = (8, 6))\n",
    "sns.heatmap(confusion_matrix(y_test, y_pred), annot = True, cmap = 'magma')\n",
    "plt.show()"
   ]
  },
  {
   "cell_type": "code",
   "execution_count": null,
   "id": "28673100",
   "metadata": {},
   "outputs": [],
   "source": []
  }
 ],
 "metadata": {
  "kernelspec": {
   "display_name": "Python 3 (ipykernel)",
   "language": "python",
   "name": "python3"
  },
  "language_info": {
   "codemirror_mode": {
    "name": "ipython",
    "version": 3
   },
   "file_extension": ".py",
   "mimetype": "text/x-python",
   "name": "python",
   "nbconvert_exporter": "python",
   "pygments_lexer": "ipython3",
   "version": "3.11.3"
  }
 },
 "nbformat": 4,
 "nbformat_minor": 5
}
