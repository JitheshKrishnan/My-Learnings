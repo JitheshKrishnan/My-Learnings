{
 "cells": [
  {
   "cell_type": "code",
   "execution_count": 2,
   "id": "ca2100d1",
   "metadata": {},
   "outputs": [],
   "source": [
    "#!pip  install numpy"
   ]
  },
  {
   "cell_type": "code",
   "execution_count": 3,
   "id": "98bdbcb3",
   "metadata": {},
   "outputs": [],
   "source": [
    "import numpy as np # importing numpy module\n",
    "l = [1, 2, 3, 4, 5, 6] # normal array"
   ]
  },
  {
   "cell_type": "code",
   "execution_count": 4,
   "id": "1b02469e",
   "metadata": {},
   "outputs": [
    {
     "data": {
      "text/plain": [
       "[1, 2, 3, 4, 5, 6]"
      ]
     },
     "execution_count": 4,
     "metadata": {},
     "output_type": "execute_result"
    }
   ],
   "source": [
    "l"
   ]
  },
  {
   "cell_type": "code",
   "execution_count": 5,
   "id": "67ebeb3d",
   "metadata": {},
   "outputs": [],
   "source": [
    "x = np.array(l) # numpy array declaration"
   ]
  },
  {
   "cell_type": "code",
   "execution_count": 6,
   "id": "906e8a69",
   "metadata": {},
   "outputs": [
    {
     "data": {
      "text/plain": [
       "array([1, 2, 3, 4, 5, 6])"
      ]
     },
     "execution_count": 6,
     "metadata": {},
     "output_type": "execute_result"
    }
   ],
   "source": [
    "x"
   ]
  },
  {
   "cell_type": "code",
   "execution_count": 7,
   "id": "580da792",
   "metadata": {},
   "outputs": [],
   "source": [
    "l2d = [[1, 2, 3],[4, 5, 6],[7, 8, 9]] #normal 2d array declaration"
   ]
  },
  {
   "cell_type": "code",
   "execution_count": 8,
   "id": "bf3c233d",
   "metadata": {},
   "outputs": [
    {
     "data": {
      "text/plain": [
       "[[1, 2, 3], [4, 5, 6], [7, 8, 9]]"
      ]
     },
     "execution_count": 8,
     "metadata": {},
     "output_type": "execute_result"
    }
   ],
   "source": [
    "l2d"
   ]
  },
  {
   "cell_type": "code",
   "execution_count": 9,
   "id": "05465de8",
   "metadata": {},
   "outputs": [],
   "source": [
    "arr2d = np.array(l2d) # numpy 2d array"
   ]
  },
  {
   "cell_type": "code",
   "execution_count": 10,
   "id": "ae18c30c",
   "metadata": {},
   "outputs": [
    {
     "data": {
      "text/plain": [
       "array([[1, 2, 3],\n",
       "       [4, 5, 6],\n",
       "       [7, 8, 9]])"
      ]
     },
     "execution_count": 10,
     "metadata": {},
     "output_type": "execute_result"
    }
   ],
   "source": [
    "arr2d"
   ]
  },
  {
   "cell_type": "code",
   "execution_count": 73,
   "id": "faca1625",
   "metadata": {},
   "outputs": [
    {
     "data": {
      "text/plain": [
       "array([ 0,  1,  2,  3,  4,  5,  6,  7,  8,  9, 10, 11, 12, 13, 14, 15, 16,\n",
       "       17, 18, 19, 20, 21, 22, 23, 24, 25, 26, 27, 28, 29, 30, 31, 32, 33,\n",
       "       34, 35, 36, 37, 38, 39, 40, 41, 42, 43, 44, 45, 46, 47, 48, 49, 50,\n",
       "       51, 52, 53, 54, 55, 56, 57, 58, 59])"
      ]
     },
     "execution_count": 73,
     "metadata": {},
     "output_type": "execute_result"
    }
   ],
   "source": [
    "x = np.arange(60) # range function in numpy\n",
    "x"
   ]
  },
  {
   "cell_type": "code",
   "execution_count": 74,
   "id": "d3bb64c3",
   "metadata": {},
   "outputs": [
    {
     "data": {
      "text/plain": [
       "array([[ 0,  1,  2,  3,  4,  5],\n",
       "       [ 6,  7,  8,  9, 10, 11],\n",
       "       [12, 13, 14, 15, 16, 17],\n",
       "       [18, 19, 20, 21, 22, 23],\n",
       "       [24, 25, 26, 27, 28, 29],\n",
       "       [30, 31, 32, 33, 34, 35],\n",
       "       [36, 37, 38, 39, 40, 41],\n",
       "       [42, 43, 44, 45, 46, 47],\n",
       "       [48, 49, 50, 51, 52, 53],\n",
       "       [54, 55, 56, 57, 58, 59]])"
      ]
     },
     "execution_count": 74,
     "metadata": {},
     "output_type": "execute_result"
    }
   ],
   "source": [
    "x.reshape(10,6) # reshape is used to create dimensional arrays"
   ]
  },
  {
   "cell_type": "code",
   "execution_count": 16,
   "id": "813f82c8",
   "metadata": {},
   "outputs": [
    {
     "ename": "AttributeError",
     "evalue": "'list' object has no attribute 'reshape'",
     "output_type": "error",
     "traceback": [
      "\u001b[1;31m---------------------------------------------------------------------------\u001b[0m",
      "\u001b[1;31mAttributeError\u001b[0m                            Traceback (most recent call last)",
      "Cell \u001b[1;32mIn[16], line 1\u001b[0m\n\u001b[1;32m----> 1\u001b[0m \u001b[43ml\u001b[49m\u001b[38;5;241;43m.\u001b[39;49m\u001b[43mreshape\u001b[49m(\u001b[38;5;241m2\u001b[39m, \u001b[38;5;241m3\u001b[39m)\n",
      "\u001b[1;31mAttributeError\u001b[0m: 'list' object has no attribute 'reshape'"
     ]
    }
   ],
   "source": [
    "l.reshape(2, 3) # reshape works only on numpy arrays and not on normal arrays "
   ]
  },
  {
   "cell_type": "code",
   "execution_count": 26,
   "id": "2ba1c270",
   "metadata": {},
   "outputs": [
    {
     "data": {
      "text/plain": [
       "array([[[ 0,  1,  2,  3,  4,  5],\n",
       "        [ 6,  7,  8,  9, 10, 11]],\n",
       "\n",
       "       [[12, 13, 14, 15, 16, 17],\n",
       "        [18, 19, 20, 21, 22, 23]],\n",
       "\n",
       "       [[24, 25, 26, 27, 28, 29],\n",
       "        [30, 31, 32, 33, 34, 35]],\n",
       "\n",
       "       [[36, 37, 38, 39, 40, 41],\n",
       "        [42, 43, 44, 45, 46, 47]],\n",
       "\n",
       "       [[48, 49, 50, 51, 52, 53],\n",
       "        [54, 55, 56, 57, 58, 59]]])"
      ]
     },
     "execution_count": 26,
     "metadata": {},
     "output_type": "execute_result"
    }
   ],
   "source": [
    "x = np.arange(60).reshape(5,2,6) # 3d array\n",
    "x"
   ]
  },
  {
   "cell_type": "code",
   "execution_count": 51,
   "id": "3eec5ccc",
   "metadata": {},
   "outputs": [
    {
     "data": {
      "text/plain": [
       "array([[[[ 0,  1],\n",
       "         [ 2,  3],\n",
       "         [ 4,  5]],\n",
       "\n",
       "        [[ 6,  7],\n",
       "         [ 8,  9],\n",
       "         [10, 11]]],\n",
       "\n",
       "\n",
       "       [[[12, 13],\n",
       "         [14, 15],\n",
       "         [16, 17]],\n",
       "\n",
       "        [[18, 19],\n",
       "         [20, 21],\n",
       "         [22, 23]]],\n",
       "\n",
       "\n",
       "       [[[24, 25],\n",
       "         [26, 27],\n",
       "         [28, 29]],\n",
       "\n",
       "        [[30, 31],\n",
       "         [32, 33],\n",
       "         [34, 35]]],\n",
       "\n",
       "\n",
       "       [[[36, 37],\n",
       "         [38, 39],\n",
       "         [40, 41]],\n",
       "\n",
       "        [[42, 43],\n",
       "         [44, 45],\n",
       "         [46, 47]]],\n",
       "\n",
       "\n",
       "       [[[48, 49],\n",
       "         [50, 51],\n",
       "         [52, 53]],\n",
       "\n",
       "        [[54, 55],\n",
       "         [56, 57],\n",
       "         [58, 59]]]])"
      ]
     },
     "execution_count": 51,
     "metadata": {},
     "output_type": "execute_result"
    }
   ],
   "source": [
    "y = np.arange(60).reshape(5,2,3,2) #4d array\n",
    "y"
   ]
  },
  {
   "cell_type": "code",
   "execution_count": 52,
   "id": "e3c4425e",
   "metadata": {},
   "outputs": [
    {
     "data": {
      "text/plain": [
       "dtype('int32')"
      ]
     },
     "execution_count": 52,
     "metadata": {},
     "output_type": "execute_result"
    }
   ],
   "source": [
    "y.dtype"
   ]
  },
  {
   "cell_type": "code",
   "execution_count": 53,
   "id": "71b144ed",
   "metadata": {},
   "outputs": [
    {
     "data": {
      "text/plain": [
       "(5, 2, 3, 2)"
      ]
     },
     "execution_count": 53,
     "metadata": {},
     "output_type": "execute_result"
    }
   ],
   "source": [
    "y.shape"
   ]
  },
  {
   "cell_type": "code",
   "execution_count": 54,
   "id": "0da86170",
   "metadata": {},
   "outputs": [
    {
     "data": {
      "text/plain": [
       "array([[3., 3., 3., 3.],\n",
       "       [3., 3., 3., 3.],\n",
       "       [3., 3., 3., 3.],\n",
       "       [3., 3., 3., 3.]])"
      ]
     },
     "execution_count": 54,
     "metadata": {},
     "output_type": "execute_result"
    }
   ],
   "source": [
    "a = np.zeros((4,4))+3\n",
    "a"
   ]
  },
  {
   "cell_type": "code",
   "execution_count": 55,
   "id": "01e9ea3b",
   "metadata": {},
   "outputs": [
    {
     "data": {
      "text/plain": [
       "array([[5., 5., 5., 5.],\n",
       "       [5., 5., 5., 5.],\n",
       "       [5., 5., 5., 5.],\n",
       "       [5., 5., 5., 5.]])"
      ]
     },
     "execution_count": 55,
     "metadata": {},
     "output_type": "execute_result"
    }
   ],
   "source": [
    "b = np.ones((4,4))*5\n",
    "b"
   ]
  },
  {
   "cell_type": "code",
   "execution_count": 56,
   "id": "837bac77",
   "metadata": {},
   "outputs": [
    {
     "data": {
      "text/plain": [
       "array([[1., 0., 0., 0.],\n",
       "       [0., 1., 0., 0.],\n",
       "       [0., 0., 1., 0.],\n",
       "       [0., 0., 0., 1.]])"
      ]
     },
     "execution_count": 56,
     "metadata": {},
     "output_type": "execute_result"
    }
   ],
   "source": [
    "c = np.eye(4) # identity matrix\n",
    "c"
   ]
  },
  {
   "cell_type": "code",
   "execution_count": 57,
   "id": "bff20c3c",
   "metadata": {},
   "outputs": [
    {
     "data": {
      "text/plain": [
       "array([[8., 8., 8., 8.],\n",
       "       [8., 8., 8., 8.],\n",
       "       [8., 8., 8., 8.],\n",
       "       [8., 8., 8., 8.]])"
      ]
     },
     "execution_count": 57,
     "metadata": {},
     "output_type": "execute_result"
    }
   ],
   "source": [
    "a+b"
   ]
  },
  {
   "cell_type": "code",
   "execution_count": 58,
   "id": "35ce47b4",
   "metadata": {},
   "outputs": [
    {
     "data": {
      "text/plain": [
       "array([[3., 3., 3., 3.],\n",
       "       [3., 3., 3., 3.],\n",
       "       [3., 3., 3., 3.],\n",
       "       [3., 3., 3., 3.]])"
      ]
     },
     "execution_count": 58,
     "metadata": {},
     "output_type": "execute_result"
    }
   ],
   "source": [
    "a.dot(c) # matrix multiplication"
   ]
  },
  {
   "cell_type": "code",
   "execution_count": 59,
   "id": "2a2f4edf",
   "metadata": {},
   "outputs": [
    {
     "data": {
      "text/plain": [
       "array([[[[ 0,  1],\n",
       "         [ 2,  3],\n",
       "         [ 4,  5]],\n",
       "\n",
       "        [[ 6,  7],\n",
       "         [ 8,  9],\n",
       "         [10, 11]]],\n",
       "\n",
       "\n",
       "       [[[12, 13],\n",
       "         [14, 15],\n",
       "         [16, 17]],\n",
       "\n",
       "        [[18, 19],\n",
       "         [20, 21],\n",
       "         [22, 23]]],\n",
       "\n",
       "\n",
       "       [[[24, 25],\n",
       "         [26, 27],\n",
       "         [28, 29]],\n",
       "\n",
       "        [[30, 31],\n",
       "         [32, 33],\n",
       "         [34, 35]]],\n",
       "\n",
       "\n",
       "       [[[36, 37],\n",
       "         [38, 39],\n",
       "         [40, 41]],\n",
       "\n",
       "        [[42, 43],\n",
       "         [44, 45],\n",
       "         [46, 47]]],\n",
       "\n",
       "\n",
       "       [[[48, 49],\n",
       "         [50, 51],\n",
       "         [52, 53]],\n",
       "\n",
       "        [[54, 55],\n",
       "         [56, 57],\n",
       "         [58, 59]]]])"
      ]
     },
     "execution_count": 59,
     "metadata": {},
     "output_type": "execute_result"
    }
   ],
   "source": [
    "y"
   ]
  },
  {
   "cell_type": "code",
   "execution_count": 64,
   "id": "6e1bf359",
   "metadata": {},
   "outputs": [],
   "source": [
    "y = y.flatten() # to convert any multi-dimensional array into a 1d array"
   ]
  },
  {
   "cell_type": "code",
   "execution_count": 65,
   "id": "d699dc80",
   "metadata": {},
   "outputs": [
    {
     "data": {
      "text/plain": [
       "array([ 0,  1,  2,  3,  4,  5,  6,  7,  8,  9, 10, 11, 12, 13, 14, 15, 16,\n",
       "       17, 18, 19, 20, 21, 22, 23, 24, 25, 26, 27, 28, 29, 30, 31, 32, 33,\n",
       "       34, 35, 36, 37, 38, 39, 40, 41, 42, 43, 44, 45, 46, 47, 48, 49, 50,\n",
       "       51, 52, 53, 54, 55, 56, 57, 58, 59])"
      ]
     },
     "execution_count": 65,
     "metadata": {},
     "output_type": "execute_result"
    }
   ],
   "source": [
    "y"
   ]
  },
  {
   "cell_type": "code",
   "execution_count": 66,
   "id": "5de92353",
   "metadata": {},
   "outputs": [
    {
     "data": {
      "text/plain": [
       "29.5"
      ]
     },
     "execution_count": 66,
     "metadata": {},
     "output_type": "execute_result"
    }
   ],
   "source": [
    "y.mean() # mean of the array y"
   ]
  },
  {
   "cell_type": "code",
   "execution_count": 67,
   "id": "80771042",
   "metadata": {},
   "outputs": [
    {
     "data": {
      "text/plain": [
       "29.5"
      ]
     },
     "execution_count": 67,
     "metadata": {},
     "output_type": "execute_result"
    }
   ],
   "source": [
    "np.mean(y)"
   ]
  },
  {
   "cell_type": "code",
   "execution_count": 68,
   "id": "7c616b29",
   "metadata": {},
   "outputs": [
    {
     "data": {
      "text/plain": [
       "17.318102282486574"
      ]
     },
     "execution_count": 68,
     "metadata": {},
     "output_type": "execute_result"
    }
   ],
   "source": [
    "y.std() # stanndard deviation of the array y"
   ]
  },
  {
   "cell_type": "code",
   "execution_count": 69,
   "id": "5e025330",
   "metadata": {},
   "outputs": [
    {
     "data": {
      "text/plain": [
       "299.9166666666667"
      ]
     },
     "execution_count": 69,
     "metadata": {},
     "output_type": "execute_result"
    }
   ],
   "source": [
    "y.var() # variance of the array y"
   ]
  },
  {
   "cell_type": "code",
   "execution_count": 92,
   "id": "f3adc0b3",
   "metadata": {},
   "outputs": [
    {
     "data": {
      "text/plain": [
       "array([[ 1,  2,  3,  4,  5],\n",
       "       [ 6,  7,  8,  9, 10]])"
      ]
     },
     "execution_count": 92,
     "metadata": {},
     "output_type": "execute_result"
    }
   ],
   "source": [
    "s = np.arange(1,11).reshape(2,5)\n",
    "s"
   ]
  },
  {
   "cell_type": "code",
   "execution_count": 93,
   "id": "eb8e5724",
   "metadata": {},
   "outputs": [
    {
     "data": {
      "text/plain": [
       "array([3.5, 4.5, 5.5, 6.5, 7.5])"
      ]
     },
     "execution_count": 93,
     "metadata": {},
     "output_type": "execute_result"
    }
   ],
   "source": [
    "s.mean(axis = 0) # axis = 0 means rows"
   ]
  },
  {
   "cell_type": "code",
   "execution_count": 94,
   "id": "4b9716ac",
   "metadata": {},
   "outputs": [
    {
     "data": {
      "text/plain": [
       "array([3., 8.])"
      ]
     },
     "execution_count": 94,
     "metadata": {},
     "output_type": "execute_result"
    }
   ],
   "source": [
    "s.mean(axis = 1) # axis = 1 means columns"
   ]
  },
  {
   "cell_type": "code",
   "execution_count": 95,
   "id": "f2e23ed9",
   "metadata": {},
   "outputs": [
    {
     "data": {
      "text/plain": [
       "array([2.5, 2.5, 2.5, 2.5, 2.5])"
      ]
     },
     "execution_count": 95,
     "metadata": {},
     "output_type": "execute_result"
    }
   ],
   "source": [
    "s.std(axis = 0)"
   ]
  },
  {
   "cell_type": "code",
   "execution_count": 96,
   "id": "db305220",
   "metadata": {},
   "outputs": [
    {
     "data": {
      "text/plain": [
       "array([[0.        , 0.69314718, 1.09861229, 1.38629436, 1.60943791],\n",
       "       [1.79175947, 1.94591015, 2.07944154, 2.19722458, 2.30258509]])"
      ]
     },
     "execution_count": 96,
     "metadata": {},
     "output_type": "execute_result"
    }
   ],
   "source": [
    "np.log(s) # log of the numppy array s"
   ]
  },
  {
   "cell_type": "code",
   "execution_count": 97,
   "id": "ae4717bb",
   "metadata": {},
   "outputs": [
    {
     "data": {
      "text/plain": [
       "array([[ 0.84147098,  0.90929743,  0.14112001, -0.7568025 , -0.95892427],\n",
       "       [-0.2794155 ,  0.6569866 ,  0.98935825,  0.41211849, -0.54402111]])"
      ]
     },
     "execution_count": 97,
     "metadata": {},
     "output_type": "execute_result"
    }
   ],
   "source": [
    "np.sin(s) # sin function"
   ]
  },
  {
   "cell_type": "code",
   "execution_count": 98,
   "id": "0651b56a",
   "metadata": {},
   "outputs": [
    {
     "data": {
      "text/plain": [
       "array([[ 0.54030231, -0.41614684, -0.9899925 , -0.65364362,  0.28366219],\n",
       "       [ 0.96017029,  0.75390225, -0.14550003, -0.91113026, -0.83907153]])"
      ]
     },
     "execution_count": 98,
     "metadata": {},
     "output_type": "execute_result"
    }
   ],
   "source": [
    "np.cos(s) # cos function"
   ]
  },
  {
   "cell_type": "code",
   "execution_count": 99,
   "id": "59e105a0",
   "metadata": {},
   "outputs": [
    {
     "data": {
      "text/plain": [
       "array([[ 1.55740772, -2.18503986, -0.14254654,  1.15782128, -3.38051501],\n",
       "       [-0.29100619,  0.87144798, -6.79971146, -0.45231566,  0.64836083]])"
      ]
     },
     "execution_count": 99,
     "metadata": {},
     "output_type": "execute_result"
    }
   ],
   "source": [
    "np.tan(s) # tan function"
   ]
  },
  {
   "cell_type": "code",
   "execution_count": 100,
   "id": "dad3ab70",
   "metadata": {},
   "outputs": [
    {
     "data": {
      "text/plain": [
       "3.141592653589793"
      ]
     },
     "execution_count": 100,
     "metadata": {},
     "output_type": "execute_result"
    }
   ],
   "source": [
    "np.radians(180) # radians of a number"
   ]
  },
  {
   "cell_type": "code",
   "execution_count": 101,
   "id": "a9eb5f43",
   "metadata": {},
   "outputs": [
    {
     "data": {
      "text/plain": [
       "180.0"
      ]
     },
     "execution_count": 101,
     "metadata": {},
     "output_type": "execute_result"
    }
   ],
   "source": [
    "np.degrees(3.141592653589793) # radians to degrees"
   ]
  },
  {
   "cell_type": "code",
   "execution_count": 108,
   "id": "88fe7daf",
   "metadata": {},
   "outputs": [
    {
     "data": {
      "text/plain": [
       "array([[0.        , 0.30103   , 0.47712125, 0.60205999, 0.69897   ],\n",
       "       [0.77815125, 0.84509804, 0.90308999, 0.95424251, 1.        ]])"
      ]
     },
     "execution_count": 108,
     "metadata": {},
     "output_type": "execute_result"
    }
   ],
   "source": [
    "np.log10(s) # log fn"
   ]
  },
  {
   "cell_type": "code",
   "execution_count": 141,
   "id": "9e6e21f9",
   "metadata": {},
   "outputs": [
    {
     "data": {
      "text/plain": [
       "array([ 1,  2,  3,  4,  5,  6,  7,  8,  9, 10])"
      ]
     },
     "execution_count": 141,
     "metadata": {},
     "output_type": "execute_result"
    }
   ],
   "source": [
    "n = np.arange(1,11)\n",
    "n"
   ]
  },
  {
   "cell_type": "code",
   "execution_count": 142,
   "id": "4d69b0d7",
   "metadata": {},
   "outputs": [
    {
     "data": {
      "text/plain": [
       "array([[1.07282063e-01, 9.62011962e-01, 6.02179440e-01, 1.93933813e-01,\n",
       "        5.25114213e-01, 3.15404406e-01, 6.86514697e-01, 5.82445496e-01,\n",
       "        4.78307308e-01, 5.41603580e-01],\n",
       "       [2.89940332e-01, 9.56284801e-01, 9.30259669e-01, 7.71975734e-01,\n",
       "        9.23502267e-02, 7.41812186e-01, 8.22707334e-01, 2.63387514e-01,\n",
       "        6.97591757e-02, 4.91797612e-01],\n",
       "       [7.17357697e-02, 8.63695390e-01, 5.74827590e-01, 2.60805133e-01,\n",
       "        3.08981969e-01, 5.77871059e-01, 7.80205160e-01, 9.57212080e-01,\n",
       "        5.45553663e-01, 7.67449434e-01],\n",
       "       [7.44079630e-01, 7.99639580e-01, 4.91942470e-01, 6.37353433e-01,\n",
       "        9.23829622e-01, 3.27061825e-01, 9.56440095e-01, 7.69312492e-01,\n",
       "        4.50044194e-02, 9.34321846e-01],\n",
       "       [2.20138460e-01, 5.17551557e-01, 7.62436029e-02, 3.43213188e-04,\n",
       "        5.30386778e-01, 3.41743185e-01, 1.49925365e-01, 8.97864061e-01,\n",
       "        4.89527766e-02, 7.29126481e-01],\n",
       "       [7.77539651e-01, 5.44149883e-01, 6.96469911e-01, 7.69480757e-01,\n",
       "        9.62313608e-01, 1.60659859e-01, 2.93017475e-01, 7.40983364e-01,\n",
       "        7.84617402e-01, 9.25208377e-01],\n",
       "       [6.23998576e-01, 4.29874594e-01, 3.12270437e-01, 7.67164958e-01,\n",
       "        7.12189926e-01, 4.88883934e-01, 8.76426109e-01, 5.51811861e-01,\n",
       "        8.83174069e-01, 4.47981566e-01],\n",
       "       [5.16063324e-01, 6.32631645e-01, 3.43234048e-01, 7.72491006e-01,\n",
       "        4.98760039e-02, 1.48142361e-01, 5.40658112e-01, 3.39719731e-01,\n",
       "        5.96991175e-02, 9.84139422e-01],\n",
       "       [6.57374623e-01, 2.61147628e-01, 4.22667322e-01, 7.60334033e-01,\n",
       "        2.37240262e-01, 5.64814933e-01, 8.21665355e-01, 4.85370474e-01,\n",
       "        9.55913050e-01, 5.13392771e-01],\n",
       "       [6.52239125e-01, 9.91584352e-01, 5.65855516e-02, 7.88208610e-02,\n",
       "        3.01697836e-01, 3.15506963e-01, 1.30511086e-01, 4.57120106e-01,\n",
       "        5.68921058e-01, 3.60505469e-01]])"
      ]
     },
     "execution_count": 142,
     "metadata": {},
     "output_type": "execute_result"
    }
   ],
   "source": [
    "np.random.rand(10,10) # random fn"
   ]
  },
  {
   "cell_type": "code",
   "execution_count": 143,
   "id": "6a862608",
   "metadata": {},
   "outputs": [
    {
     "data": {
      "text/plain": [
       "array([[34, 32, 38, 40, 39, 24, 23, 31, 13, 15],\n",
       "       [30, 23, 38, 21, 27, 16, 11, 27, 28, 30],\n",
       "       [37, 26, 26, 30, 40, 49, 38, 31, 37, 39],\n",
       "       [17, 36, 24, 18, 16, 28, 34, 28, 12, 28],\n",
       "       [21, 20, 38, 41, 29, 12, 20, 27, 12, 35],\n",
       "       [43, 36, 19, 35, 29, 22, 43, 11, 49, 44],\n",
       "       [19, 34, 35, 33, 43, 37, 32, 40, 44, 39],\n",
       "       [31, 45, 47, 11, 31, 24, 42, 49, 26, 40],\n",
       "       [48, 11, 34, 37, 22, 42, 25, 49, 25, 21],\n",
       "       [11, 45, 20, 28, 14, 23, 45, 40, 39, 26]])"
      ]
     },
     "execution_count": 143,
     "metadata": {},
     "output_type": "execute_result"
    }
   ],
   "source": [
    "np.random.randint(10,50,(10,10)) # randint fn"
   ]
  },
  {
   "cell_type": "code",
   "execution_count": 153,
   "id": "2123beb6",
   "metadata": {},
   "outputs": [
    {
     "data": {
      "text/plain": [
       "array([ 2,  7,  8,  5,  9,  3, 10,  4,  1,  6])"
      ]
     },
     "execution_count": 153,
     "metadata": {},
     "output_type": "execute_result"
    }
   ],
   "source": [
    "np.random.shuffle(n) # shuffles the numpy array\n",
    "n"
   ]
  },
  {
   "cell_type": "code",
   "execution_count": 154,
   "id": "2ee02e25",
   "metadata": {},
   "outputs": [
    {
     "data": {
      "text/plain": [
       "6"
      ]
     },
     "execution_count": 154,
     "metadata": {},
     "output_type": "execute_result"
    }
   ],
   "source": [
    "n.argmax() # returns the index of the largest element"
   ]
  },
  {
   "cell_type": "code",
   "execution_count": 155,
   "id": "7069cf43",
   "metadata": {},
   "outputs": [
    {
     "data": {
      "text/plain": [
       "8"
      ]
     },
     "execution_count": 155,
     "metadata": {},
     "output_type": "execute_result"
    }
   ],
   "source": [
    "n.argmin() # returns the index of the smallest element"
   ]
  },
  {
   "cell_type": "code",
   "execution_count": null,
   "id": "1c2de8e2",
   "metadata": {},
   "outputs": [],
   "source": []
  }
 ],
 "metadata": {
  "kernelspec": {
   "display_name": "Python 3 (ipykernel)",
   "language": "python",
   "name": "python3"
  },
  "language_info": {
   "codemirror_mode": {
    "name": "ipython",
    "version": 3
   },
   "file_extension": ".py",
   "mimetype": "text/x-python",
   "name": "python",
   "nbconvert_exporter": "python",
   "pygments_lexer": "ipython3",
   "version": "3.11.3"
  }
 },
 "nbformat": 4,
 "nbformat_minor": 5
}
